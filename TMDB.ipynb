{
 "cells": [
  {
   "cell_type": "code",
   "execution_count": 351,
   "metadata": {
    "collapsed": true,
    "ExecuteTime": {
     "end_time": "2023-05-12T12:23:07.566577Z",
     "start_time": "2023-05-12T12:23:07.535076Z"
    }
   },
   "outputs": [],
   "source": [
    "import pandas as pd\n",
    "import numpy as np\n",
    "\n",
    "import json\n",
    "from sklearn.preprocessing import LabelEncoder\n",
    "\n",
    "from datetime import datetime\n",
    "\n",
    "from tqdm import tqdm"
   ]
  },
  {
   "cell_type": "code",
   "execution_count": 352,
   "outputs": [],
   "source": [
    "train_data = pd.read_csv(\"data/train.csv\")\n",
    "test_data = pd.read_csv(\"data/test.csv\")"
   ],
   "metadata": {
    "collapsed": false,
    "ExecuteTime": {
     "end_time": "2023-05-12T12:23:08.074098Z",
     "start_time": "2023-05-12T12:23:07.538990Z"
    }
   }
  },
  {
   "cell_type": "code",
   "execution_count": 353,
   "outputs": [
    {
     "data": {
      "text/plain": "   id                              belongs_to_collection    budget  \\\n0   1  [{'id': 313576, 'name': 'Hot Tub Time Machine ...  14000000   \n1   2  [{'id': 107674, 'name': 'The Princess Diaries ...  40000000   \n2   3                                                NaN   3300000   \n3   4                                                NaN   1200000   \n4   5                                                NaN         0   \n5   6                                                NaN   8000000   \n6   7                                                NaN  14000000   \n7   8                                                NaN         0   \n8   9  [{'id': 256377, 'name': 'The Muppet Collection...         0   \n9  10                                                NaN   6000000   \n\n                                              genres  \\\n0                     [{'id': 35, 'name': 'Comedy'}]   \n1  [{'id': 35, 'name': 'Comedy'}, {'id': 18, 'nam...   \n2                      [{'id': 18, 'name': 'Drama'}]   \n3  [{'id': 53, 'name': 'Thriller'}, {'id': 18, 'n...   \n4  [{'id': 28, 'name': 'Action'}, {'id': 53, 'nam...   \n5  [{'id': 16, 'name': 'Animation'}, {'id': 12, '...   \n6  [{'id': 27, 'name': 'Horror'}, {'id': 53, 'nam...   \n7                [{'id': 99, 'name': 'Documentary'}]   \n8  [{'id': 28, 'name': 'Action'}, {'id': 35, 'nam...   \n9  [{'id': 35, 'name': 'Comedy'}, {'id': 10402, '...   \n\n                             homepage    imdb_id original_language  \\\n0                                 NaN  tt2637294                en   \n1                                 NaN  tt0368933                en   \n2   http://sonyclassics.com/whiplash/  tt2582802                en   \n3          http://kahaanithefilm.com/  tt1821480                hi   \n4                                 NaN  tt1380152                ko   \n5                                 NaN  tt0093743                en   \n6  http://www.thepossessionmovie.com/  tt0431021                en   \n7                                 NaN  tt0391024                en   \n8                                 NaN  tt0117110                en   \n9                                 NaN  tt0310281                en   \n\n                             original_title  \\\n0                    Hot Tub Time Machine 2   \n1  The Princess Diaries 2: Royal Engagement   \n2                                  Whiplash   \n3                                   Kahaani   \n4                                      마린보이   \n5    Pinocchio and the Emperor of the Night   \n6                            The Possession   \n7                              Control Room   \n8                    Muppet Treasure Island   \n9                             A Mighty Wind   \n\n                                            overview  popularity  ...  \\\n0  When Lou, who has become the \"father of the In...    6.575393  ...   \n1  Mia Thermopolis is now a college graduate and ...    8.248895  ...   \n2  Under the direction of a ruthless instructor, ...   64.299990  ...   \n3  Vidya Bagchi (Vidya Balan) arrives in Kolkata ...    3.174936  ...   \n4  Marine Boy is the story of a former national s...    1.148070  ...   \n5  Pinocchio and his friends, a glow worm and a m...    0.743274  ...   \n6  A young girl buys an antique box at a yard sal...    7.286477  ...   \n7  A chronicle which provides a rare window into ...    1.949044  ...   \n8  After telling the story of Flint's last journe...    6.902423  ...   \n9  In \"A Mighty Wind\", director Christopher Guest...    4.672036  ...   \n\n  release_date runtime                                   spoken_languages  \\\n0      2/20/15    93.0           [{'iso_639_1': 'en', 'name': 'English'}]   \n1       8/6/04   113.0           [{'iso_639_1': 'en', 'name': 'English'}]   \n2     10/10/14   105.0           [{'iso_639_1': 'en', 'name': 'English'}]   \n3       3/9/12   122.0  [{'iso_639_1': 'en', 'name': 'English'}, {'iso...   \n4       2/5/09   118.0           [{'iso_639_1': 'ko', 'name': '한국어/조선말'}]   \n5       8/6/87    83.0           [{'iso_639_1': 'en', 'name': 'English'}]   \n6      8/30/12    92.0           [{'iso_639_1': 'en', 'name': 'English'}]   \n7      1/15/04    84.0  [{'iso_639_1': 'ar', 'name': 'العربية'}, {'iso...   \n8      2/16/96   100.0           [{'iso_639_1': 'en', 'name': 'English'}]   \n9      4/16/03    91.0           [{'iso_639_1': 'en', 'name': 'English'}]   \n\n     status                                            tagline  \\\n0  Released  The Laws of Space and Time are About to be Vio...   \n1  Released  It can take a lifetime to find true love; she'...   \n2  Released    The road to greatness can take you to the edge.   \n3  Released                                                NaN   \n4  Released                                                NaN   \n5  Released                                                NaN   \n6  Released               Fear The Demon That Doesn't Fear God   \n7  Released              Different channels. Different truths.   \n8  Released                        Set sail for Muppet mayhem!   \n9  Released           Back together for the first time, again.   \n\n                                      title  \\\n0                    Hot Tub Time Machine 2   \n1  The Princess Diaries 2: Royal Engagement   \n2                                  Whiplash   \n3                                   Kahaani   \n4                                Marine Boy   \n5    Pinocchio and the Emperor of the Night   \n6                            The Possession   \n7                              Control Room   \n8                    Muppet Treasure Island   \n9                             A Mighty Wind   \n\n                                            Keywords  \\\n0  [{'id': 4379, 'name': 'time travel'}, {'id': 9...   \n1  [{'id': 2505, 'name': 'coronation'}, {'id': 42...   \n2  [{'id': 1416, 'name': 'jazz'}, {'id': 1523, 'n...   \n3  [{'id': 10092, 'name': 'mystery'}, {'id': 1054...   \n4                                                NaN   \n5                                                NaN   \n6                                                NaN   \n7  [{'id': 917, 'name': 'journalism'}, {'id': 163...   \n8  [{'id': 2041, 'name': 'island'}, {'id': 4418, ...   \n9  [{'id': 11800, 'name': 'mockumentary'}, {'id':...   \n\n                                                cast  \\\n0  [{'cast_id': 4, 'character': 'Lou', 'credit_id...   \n1  [{'cast_id': 1, 'character': 'Mia Thermopolis'...   \n2  [{'cast_id': 5, 'character': 'Andrew Neimann',...   \n3  [{'cast_id': 1, 'character': 'Vidya Bagchi', '...   \n4  [{'cast_id': 3, 'character': 'Chun-soo', 'cred...   \n5  [{'cast_id': 6, 'character': 'Pinocchio (voice...   \n6  [{'cast_id': 23, 'character': 'Clyde', 'credit...   \n7  [{'cast_id': 2, 'character': 'Himself', 'credi...   \n8  [{'cast_id': 1, 'character': 'Long John Silver...   \n9  [{'cast_id': 24, 'character': 'Jonathan Steinb...   \n\n                                                crew   revenue  \n0  [{'credit_id': '59ac067c92514107af02c8c8', 'de...  12314651  \n1  [{'credit_id': '52fe43fe9251416c7502563d', 'de...  95149435  \n2  [{'credit_id': '54d5356ec3a3683ba0000039', 'de...  13092000  \n3  [{'credit_id': '52fe48779251416c9108d6eb', 'de...  16000000  \n4  [{'credit_id': '52fe464b9251416c75073b43', 'de...   3923970  \n5  [{'credit_id': '52fe46f49251416c9106558b', 'de...   3261638  \n6  [{'credit_id': '52fe4981c3a368484e12ee29', 'de...  85446075  \n7  [{'credit_id': '52fe47a69251416c750a0daf', 'de...   2586511  \n8  [{'credit_id': '52fe43c89251416c7501deb3', 'de...  34327391  \n9  [{'credit_id': '52fe45609251416c750545b3', 'de...  18750246  \n\n[10 rows x 23 columns]",
      "text/html": "<div>\n<style scoped>\n    .dataframe tbody tr th:only-of-type {\n        vertical-align: middle;\n    }\n\n    .dataframe tbody tr th {\n        vertical-align: top;\n    }\n\n    .dataframe thead th {\n        text-align: right;\n    }\n</style>\n<table border=\"1\" class=\"dataframe\">\n  <thead>\n    <tr style=\"text-align: right;\">\n      <th></th>\n      <th>id</th>\n      <th>belongs_to_collection</th>\n      <th>budget</th>\n      <th>genres</th>\n      <th>homepage</th>\n      <th>imdb_id</th>\n      <th>original_language</th>\n      <th>original_title</th>\n      <th>overview</th>\n      <th>popularity</th>\n      <th>...</th>\n      <th>release_date</th>\n      <th>runtime</th>\n      <th>spoken_languages</th>\n      <th>status</th>\n      <th>tagline</th>\n      <th>title</th>\n      <th>Keywords</th>\n      <th>cast</th>\n      <th>crew</th>\n      <th>revenue</th>\n    </tr>\n  </thead>\n  <tbody>\n    <tr>\n      <th>0</th>\n      <td>1</td>\n      <td>[{'id': 313576, 'name': 'Hot Tub Time Machine ...</td>\n      <td>14000000</td>\n      <td>[{'id': 35, 'name': 'Comedy'}]</td>\n      <td>NaN</td>\n      <td>tt2637294</td>\n      <td>en</td>\n      <td>Hot Tub Time Machine 2</td>\n      <td>When Lou, who has become the \"father of the In...</td>\n      <td>6.575393</td>\n      <td>...</td>\n      <td>2/20/15</td>\n      <td>93.0</td>\n      <td>[{'iso_639_1': 'en', 'name': 'English'}]</td>\n      <td>Released</td>\n      <td>The Laws of Space and Time are About to be Vio...</td>\n      <td>Hot Tub Time Machine 2</td>\n      <td>[{'id': 4379, 'name': 'time travel'}, {'id': 9...</td>\n      <td>[{'cast_id': 4, 'character': 'Lou', 'credit_id...</td>\n      <td>[{'credit_id': '59ac067c92514107af02c8c8', 'de...</td>\n      <td>12314651</td>\n    </tr>\n    <tr>\n      <th>1</th>\n      <td>2</td>\n      <td>[{'id': 107674, 'name': 'The Princess Diaries ...</td>\n      <td>40000000</td>\n      <td>[{'id': 35, 'name': 'Comedy'}, {'id': 18, 'nam...</td>\n      <td>NaN</td>\n      <td>tt0368933</td>\n      <td>en</td>\n      <td>The Princess Diaries 2: Royal Engagement</td>\n      <td>Mia Thermopolis is now a college graduate and ...</td>\n      <td>8.248895</td>\n      <td>...</td>\n      <td>8/6/04</td>\n      <td>113.0</td>\n      <td>[{'iso_639_1': 'en', 'name': 'English'}]</td>\n      <td>Released</td>\n      <td>It can take a lifetime to find true love; she'...</td>\n      <td>The Princess Diaries 2: Royal Engagement</td>\n      <td>[{'id': 2505, 'name': 'coronation'}, {'id': 42...</td>\n      <td>[{'cast_id': 1, 'character': 'Mia Thermopolis'...</td>\n      <td>[{'credit_id': '52fe43fe9251416c7502563d', 'de...</td>\n      <td>95149435</td>\n    </tr>\n    <tr>\n      <th>2</th>\n      <td>3</td>\n      <td>NaN</td>\n      <td>3300000</td>\n      <td>[{'id': 18, 'name': 'Drama'}]</td>\n      <td>http://sonyclassics.com/whiplash/</td>\n      <td>tt2582802</td>\n      <td>en</td>\n      <td>Whiplash</td>\n      <td>Under the direction of a ruthless instructor, ...</td>\n      <td>64.299990</td>\n      <td>...</td>\n      <td>10/10/14</td>\n      <td>105.0</td>\n      <td>[{'iso_639_1': 'en', 'name': 'English'}]</td>\n      <td>Released</td>\n      <td>The road to greatness can take you to the edge.</td>\n      <td>Whiplash</td>\n      <td>[{'id': 1416, 'name': 'jazz'}, {'id': 1523, 'n...</td>\n      <td>[{'cast_id': 5, 'character': 'Andrew Neimann',...</td>\n      <td>[{'credit_id': '54d5356ec3a3683ba0000039', 'de...</td>\n      <td>13092000</td>\n    </tr>\n    <tr>\n      <th>3</th>\n      <td>4</td>\n      <td>NaN</td>\n      <td>1200000</td>\n      <td>[{'id': 53, 'name': 'Thriller'}, {'id': 18, 'n...</td>\n      <td>http://kahaanithefilm.com/</td>\n      <td>tt1821480</td>\n      <td>hi</td>\n      <td>Kahaani</td>\n      <td>Vidya Bagchi (Vidya Balan) arrives in Kolkata ...</td>\n      <td>3.174936</td>\n      <td>...</td>\n      <td>3/9/12</td>\n      <td>122.0</td>\n      <td>[{'iso_639_1': 'en', 'name': 'English'}, {'iso...</td>\n      <td>Released</td>\n      <td>NaN</td>\n      <td>Kahaani</td>\n      <td>[{'id': 10092, 'name': 'mystery'}, {'id': 1054...</td>\n      <td>[{'cast_id': 1, 'character': 'Vidya Bagchi', '...</td>\n      <td>[{'credit_id': '52fe48779251416c9108d6eb', 'de...</td>\n      <td>16000000</td>\n    </tr>\n    <tr>\n      <th>4</th>\n      <td>5</td>\n      <td>NaN</td>\n      <td>0</td>\n      <td>[{'id': 28, 'name': 'Action'}, {'id': 53, 'nam...</td>\n      <td>NaN</td>\n      <td>tt1380152</td>\n      <td>ko</td>\n      <td>마린보이</td>\n      <td>Marine Boy is the story of a former national s...</td>\n      <td>1.148070</td>\n      <td>...</td>\n      <td>2/5/09</td>\n      <td>118.0</td>\n      <td>[{'iso_639_1': 'ko', 'name': '한국어/조선말'}]</td>\n      <td>Released</td>\n      <td>NaN</td>\n      <td>Marine Boy</td>\n      <td>NaN</td>\n      <td>[{'cast_id': 3, 'character': 'Chun-soo', 'cred...</td>\n      <td>[{'credit_id': '52fe464b9251416c75073b43', 'de...</td>\n      <td>3923970</td>\n    </tr>\n    <tr>\n      <th>5</th>\n      <td>6</td>\n      <td>NaN</td>\n      <td>8000000</td>\n      <td>[{'id': 16, 'name': 'Animation'}, {'id': 12, '...</td>\n      <td>NaN</td>\n      <td>tt0093743</td>\n      <td>en</td>\n      <td>Pinocchio and the Emperor of the Night</td>\n      <td>Pinocchio and his friends, a glow worm and a m...</td>\n      <td>0.743274</td>\n      <td>...</td>\n      <td>8/6/87</td>\n      <td>83.0</td>\n      <td>[{'iso_639_1': 'en', 'name': 'English'}]</td>\n      <td>Released</td>\n      <td>NaN</td>\n      <td>Pinocchio and the Emperor of the Night</td>\n      <td>NaN</td>\n      <td>[{'cast_id': 6, 'character': 'Pinocchio (voice...</td>\n      <td>[{'credit_id': '52fe46f49251416c9106558b', 'de...</td>\n      <td>3261638</td>\n    </tr>\n    <tr>\n      <th>6</th>\n      <td>7</td>\n      <td>NaN</td>\n      <td>14000000</td>\n      <td>[{'id': 27, 'name': 'Horror'}, {'id': 53, 'nam...</td>\n      <td>http://www.thepossessionmovie.com/</td>\n      <td>tt0431021</td>\n      <td>en</td>\n      <td>The Possession</td>\n      <td>A young girl buys an antique box at a yard sal...</td>\n      <td>7.286477</td>\n      <td>...</td>\n      <td>8/30/12</td>\n      <td>92.0</td>\n      <td>[{'iso_639_1': 'en', 'name': 'English'}]</td>\n      <td>Released</td>\n      <td>Fear The Demon That Doesn't Fear God</td>\n      <td>The Possession</td>\n      <td>NaN</td>\n      <td>[{'cast_id': 23, 'character': 'Clyde', 'credit...</td>\n      <td>[{'credit_id': '52fe4981c3a368484e12ee29', 'de...</td>\n      <td>85446075</td>\n    </tr>\n    <tr>\n      <th>7</th>\n      <td>8</td>\n      <td>NaN</td>\n      <td>0</td>\n      <td>[{'id': 99, 'name': 'Documentary'}]</td>\n      <td>NaN</td>\n      <td>tt0391024</td>\n      <td>en</td>\n      <td>Control Room</td>\n      <td>A chronicle which provides a rare window into ...</td>\n      <td>1.949044</td>\n      <td>...</td>\n      <td>1/15/04</td>\n      <td>84.0</td>\n      <td>[{'iso_639_1': 'ar', 'name': 'العربية'}, {'iso...</td>\n      <td>Released</td>\n      <td>Different channels. Different truths.</td>\n      <td>Control Room</td>\n      <td>[{'id': 917, 'name': 'journalism'}, {'id': 163...</td>\n      <td>[{'cast_id': 2, 'character': 'Himself', 'credi...</td>\n      <td>[{'credit_id': '52fe47a69251416c750a0daf', 'de...</td>\n      <td>2586511</td>\n    </tr>\n    <tr>\n      <th>8</th>\n      <td>9</td>\n      <td>[{'id': 256377, 'name': 'The Muppet Collection...</td>\n      <td>0</td>\n      <td>[{'id': 28, 'name': 'Action'}, {'id': 35, 'nam...</td>\n      <td>NaN</td>\n      <td>tt0117110</td>\n      <td>en</td>\n      <td>Muppet Treasure Island</td>\n      <td>After telling the story of Flint's last journe...</td>\n      <td>6.902423</td>\n      <td>...</td>\n      <td>2/16/96</td>\n      <td>100.0</td>\n      <td>[{'iso_639_1': 'en', 'name': 'English'}]</td>\n      <td>Released</td>\n      <td>Set sail for Muppet mayhem!</td>\n      <td>Muppet Treasure Island</td>\n      <td>[{'id': 2041, 'name': 'island'}, {'id': 4418, ...</td>\n      <td>[{'cast_id': 1, 'character': 'Long John Silver...</td>\n      <td>[{'credit_id': '52fe43c89251416c7501deb3', 'de...</td>\n      <td>34327391</td>\n    </tr>\n    <tr>\n      <th>9</th>\n      <td>10</td>\n      <td>NaN</td>\n      <td>6000000</td>\n      <td>[{'id': 35, 'name': 'Comedy'}, {'id': 10402, '...</td>\n      <td>NaN</td>\n      <td>tt0310281</td>\n      <td>en</td>\n      <td>A Mighty Wind</td>\n      <td>In \"A Mighty Wind\", director Christopher Guest...</td>\n      <td>4.672036</td>\n      <td>...</td>\n      <td>4/16/03</td>\n      <td>91.0</td>\n      <td>[{'iso_639_1': 'en', 'name': 'English'}]</td>\n      <td>Released</td>\n      <td>Back together for the first time, again.</td>\n      <td>A Mighty Wind</td>\n      <td>[{'id': 11800, 'name': 'mockumentary'}, {'id':...</td>\n      <td>[{'cast_id': 24, 'character': 'Jonathan Steinb...</td>\n      <td>[{'credit_id': '52fe45609251416c750545b3', 'de...</td>\n      <td>18750246</td>\n    </tr>\n  </tbody>\n</table>\n<p>10 rows × 23 columns</p>\n</div>"
     },
     "execution_count": 353,
     "metadata": {},
     "output_type": "execute_result"
    }
   ],
   "source": [
    "train_data.head(10)"
   ],
   "metadata": {
    "collapsed": false,
    "ExecuteTime": {
     "end_time": "2023-05-12T12:23:08.084820Z",
     "start_time": "2023-05-12T12:23:08.081571Z"
    }
   }
  },
  {
   "cell_type": "code",
   "execution_count": 354,
   "outputs": [
    {
     "data": {
      "text/plain": "id                          0\nbelongs_to_collection    2396\nbudget                      0\ngenres                      7\nhomepage                 2054\nimdb_id                     0\noriginal_language           0\noriginal_title              0\noverview                    8\npopularity                  0\nposter_path                 1\nproduction_companies      156\nproduction_countries       55\nrelease_date                0\nruntime                     2\nspoken_languages           20\nstatus                      0\ntagline                   597\ntitle                       0\nKeywords                  276\ncast                       13\ncrew                       16\nrevenue                     0\ndtype: int64"
     },
     "execution_count": 354,
     "metadata": {},
     "output_type": "execute_result"
    }
   ],
   "source": [
    "train_data.isna().sum()"
   ],
   "metadata": {
    "collapsed": false,
    "ExecuteTime": {
     "end_time": "2023-05-12T12:23:08.108208Z",
     "start_time": "2023-05-12T12:23:08.083561Z"
    }
   }
  },
  {
   "cell_type": "code",
   "execution_count": 355,
   "outputs": [],
   "source": [
    "train_data['logRevenue'] = np.log1p(train_data['revenue'])"
   ],
   "metadata": {
    "collapsed": false,
    "ExecuteTime": {
     "end_time": "2023-05-12T12:23:08.126601Z",
     "start_time": "2023-05-12T12:23:08.099424Z"
    }
   }
  },
  {
   "cell_type": "code",
   "execution_count": 356,
   "outputs": [],
   "source": [
    "#Since only last two digits of year are provided, this is the correct way of getting the year.\n",
    "train_data[['release_month','release_day','release_year']]=train_data['release_date'].str.split('/',expand=True).replace(np.nan, -1).astype(int)\n",
    "# Some rows have 4 digits of year instead of 2, that's why I am applying (train['release_year'] < 100) this condition\n",
    "train_data.loc[ (train_data['release_year'] <= 19) & (train_data['release_year'] < 100), \"release_year\"] += 2000\n",
    "train_data.loc[ (train_data['release_year'] > 19)  & (train_data['release_year'] < 100), \"release_year\"] += 1900\n",
    "\n",
    "releaseDate = pd.to_datetime(train_data['release_date'])\n",
    "train_data['release_dayofweek'] = releaseDate.dt.dayofweek\n",
    "train_data['release_quarter'] = releaseDate.dt.quarter"
   ],
   "metadata": {
    "collapsed": false,
    "ExecuteTime": {
     "end_time": "2023-05-12T12:23:08.167415Z",
     "start_time": "2023-05-12T12:23:08.107412Z"
    }
   }
  },
  {
   "cell_type": "code",
   "execution_count": 357,
   "outputs": [
    {
     "data": {
      "text/plain": "   id                              belongs_to_collection    budget  \\\n0   1  [{'id': 313576, 'name': 'Hot Tub Time Machine ...  14000000   \n1   2  [{'id': 107674, 'name': 'The Princess Diaries ...  40000000   \n2   3                                                NaN   3300000   \n3   4                                                NaN   1200000   \n4   5                                                NaN         0   \n5   6                                                NaN   8000000   \n6   7                                                NaN  14000000   \n7   8                                                NaN         0   \n8   9  [{'id': 256377, 'name': 'The Muppet Collection...         0   \n9  10                                                NaN   6000000   \n\n                                              genres  \\\n0                     [{'id': 35, 'name': 'Comedy'}]   \n1  [{'id': 35, 'name': 'Comedy'}, {'id': 18, 'nam...   \n2                      [{'id': 18, 'name': 'Drama'}]   \n3  [{'id': 53, 'name': 'Thriller'}, {'id': 18, 'n...   \n4  [{'id': 28, 'name': 'Action'}, {'id': 53, 'nam...   \n5  [{'id': 16, 'name': 'Animation'}, {'id': 12, '...   \n6  [{'id': 27, 'name': 'Horror'}, {'id': 53, 'nam...   \n7                [{'id': 99, 'name': 'Documentary'}]   \n8  [{'id': 28, 'name': 'Action'}, {'id': 35, 'nam...   \n9  [{'id': 35, 'name': 'Comedy'}, {'id': 10402, '...   \n\n                             homepage    imdb_id original_language  \\\n0                                 NaN  tt2637294                en   \n1                                 NaN  tt0368933                en   \n2   http://sonyclassics.com/whiplash/  tt2582802                en   \n3          http://kahaanithefilm.com/  tt1821480                hi   \n4                                 NaN  tt1380152                ko   \n5                                 NaN  tt0093743                en   \n6  http://www.thepossessionmovie.com/  tt0431021                en   \n7                                 NaN  tt0391024                en   \n8                                 NaN  tt0117110                en   \n9                                 NaN  tt0310281                en   \n\n                             original_title  \\\n0                    Hot Tub Time Machine 2   \n1  The Princess Diaries 2: Royal Engagement   \n2                                  Whiplash   \n3                                   Kahaani   \n4                                      마린보이   \n5    Pinocchio and the Emperor of the Night   \n6                            The Possession   \n7                              Control Room   \n8                    Muppet Treasure Island   \n9                             A Mighty Wind   \n\n                                            overview  popularity  ...  \\\n0  When Lou, who has become the \"father of the In...    6.575393  ...   \n1  Mia Thermopolis is now a college graduate and ...    8.248895  ...   \n2  Under the direction of a ruthless instructor, ...   64.299990  ...   \n3  Vidya Bagchi (Vidya Balan) arrives in Kolkata ...    3.174936  ...   \n4  Marine Boy is the story of a former national s...    1.148070  ...   \n5  Pinocchio and his friends, a glow worm and a m...    0.743274  ...   \n6  A young girl buys an antique box at a yard sal...    7.286477  ...   \n7  A chronicle which provides a rare window into ...    1.949044  ...   \n8  After telling the story of Flint's last journe...    6.902423  ...   \n9  In \"A Mighty Wind\", director Christopher Guest...    4.672036  ...   \n\n                                            Keywords  \\\n0  [{'id': 4379, 'name': 'time travel'}, {'id': 9...   \n1  [{'id': 2505, 'name': 'coronation'}, {'id': 42...   \n2  [{'id': 1416, 'name': 'jazz'}, {'id': 1523, 'n...   \n3  [{'id': 10092, 'name': 'mystery'}, {'id': 1054...   \n4                                                NaN   \n5                                                NaN   \n6                                                NaN   \n7  [{'id': 917, 'name': 'journalism'}, {'id': 163...   \n8  [{'id': 2041, 'name': 'island'}, {'id': 4418, ...   \n9  [{'id': 11800, 'name': 'mockumentary'}, {'id':...   \n\n                                                cast  \\\n0  [{'cast_id': 4, 'character': 'Lou', 'credit_id...   \n1  [{'cast_id': 1, 'character': 'Mia Thermopolis'...   \n2  [{'cast_id': 5, 'character': 'Andrew Neimann',...   \n3  [{'cast_id': 1, 'character': 'Vidya Bagchi', '...   \n4  [{'cast_id': 3, 'character': 'Chun-soo', 'cred...   \n5  [{'cast_id': 6, 'character': 'Pinocchio (voice...   \n6  [{'cast_id': 23, 'character': 'Clyde', 'credit...   \n7  [{'cast_id': 2, 'character': 'Himself', 'credi...   \n8  [{'cast_id': 1, 'character': 'Long John Silver...   \n9  [{'cast_id': 24, 'character': 'Jonathan Steinb...   \n\n                                                crew   revenue  logRevenue  \\\n0  [{'credit_id': '59ac067c92514107af02c8c8', 'de...  12314651   16.326300   \n1  [{'credit_id': '52fe43fe9251416c7502563d', 'de...  95149435   18.370959   \n2  [{'credit_id': '54d5356ec3a3683ba0000039', 'de...  13092000   16.387512   \n3  [{'credit_id': '52fe48779251416c9108d6eb', 'de...  16000000   16.588099   \n4  [{'credit_id': '52fe464b9251416c75073b43', 'de...   3923970   15.182615   \n5  [{'credit_id': '52fe46f49251416c9106558b', 'de...   3261638   14.997740   \n6  [{'credit_id': '52fe4981c3a368484e12ee29', 'de...  85446075   18.263396   \n7  [{'credit_id': '52fe47a69251416c750a0daf', 'de...   2586511   14.765821   \n8  [{'credit_id': '52fe43c89251416c7501deb3', 'de...  34327391   17.351454   \n9  [{'credit_id': '52fe45609251416c750545b3', 'de...  18750246   16.746717   \n\n  release_month release_day release_year release_dayofweek release_quarter  \n0             2          20         2015                 4               1  \n1             8           6         2004                 4               3  \n2            10          10         2014                 4               4  \n3             3           9         2012                 4               1  \n4             2           5         2009                 3               1  \n5             8           6         1987                 3               3  \n6             8          30         2012                 3               3  \n7             1          15         2004                 3               1  \n8             2          16         1996                 4               1  \n9             4          16         2003                 2               2  \n\n[10 rows x 29 columns]",
      "text/html": "<div>\n<style scoped>\n    .dataframe tbody tr th:only-of-type {\n        vertical-align: middle;\n    }\n\n    .dataframe tbody tr th {\n        vertical-align: top;\n    }\n\n    .dataframe thead th {\n        text-align: right;\n    }\n</style>\n<table border=\"1\" class=\"dataframe\">\n  <thead>\n    <tr style=\"text-align: right;\">\n      <th></th>\n      <th>id</th>\n      <th>belongs_to_collection</th>\n      <th>budget</th>\n      <th>genres</th>\n      <th>homepage</th>\n      <th>imdb_id</th>\n      <th>original_language</th>\n      <th>original_title</th>\n      <th>overview</th>\n      <th>popularity</th>\n      <th>...</th>\n      <th>Keywords</th>\n      <th>cast</th>\n      <th>crew</th>\n      <th>revenue</th>\n      <th>logRevenue</th>\n      <th>release_month</th>\n      <th>release_day</th>\n      <th>release_year</th>\n      <th>release_dayofweek</th>\n      <th>release_quarter</th>\n    </tr>\n  </thead>\n  <tbody>\n    <tr>\n      <th>0</th>\n      <td>1</td>\n      <td>[{'id': 313576, 'name': 'Hot Tub Time Machine ...</td>\n      <td>14000000</td>\n      <td>[{'id': 35, 'name': 'Comedy'}]</td>\n      <td>NaN</td>\n      <td>tt2637294</td>\n      <td>en</td>\n      <td>Hot Tub Time Machine 2</td>\n      <td>When Lou, who has become the \"father of the In...</td>\n      <td>6.575393</td>\n      <td>...</td>\n      <td>[{'id': 4379, 'name': 'time travel'}, {'id': 9...</td>\n      <td>[{'cast_id': 4, 'character': 'Lou', 'credit_id...</td>\n      <td>[{'credit_id': '59ac067c92514107af02c8c8', 'de...</td>\n      <td>12314651</td>\n      <td>16.326300</td>\n      <td>2</td>\n      <td>20</td>\n      <td>2015</td>\n      <td>4</td>\n      <td>1</td>\n    </tr>\n    <tr>\n      <th>1</th>\n      <td>2</td>\n      <td>[{'id': 107674, 'name': 'The Princess Diaries ...</td>\n      <td>40000000</td>\n      <td>[{'id': 35, 'name': 'Comedy'}, {'id': 18, 'nam...</td>\n      <td>NaN</td>\n      <td>tt0368933</td>\n      <td>en</td>\n      <td>The Princess Diaries 2: Royal Engagement</td>\n      <td>Mia Thermopolis is now a college graduate and ...</td>\n      <td>8.248895</td>\n      <td>...</td>\n      <td>[{'id': 2505, 'name': 'coronation'}, {'id': 42...</td>\n      <td>[{'cast_id': 1, 'character': 'Mia Thermopolis'...</td>\n      <td>[{'credit_id': '52fe43fe9251416c7502563d', 'de...</td>\n      <td>95149435</td>\n      <td>18.370959</td>\n      <td>8</td>\n      <td>6</td>\n      <td>2004</td>\n      <td>4</td>\n      <td>3</td>\n    </tr>\n    <tr>\n      <th>2</th>\n      <td>3</td>\n      <td>NaN</td>\n      <td>3300000</td>\n      <td>[{'id': 18, 'name': 'Drama'}]</td>\n      <td>http://sonyclassics.com/whiplash/</td>\n      <td>tt2582802</td>\n      <td>en</td>\n      <td>Whiplash</td>\n      <td>Under the direction of a ruthless instructor, ...</td>\n      <td>64.299990</td>\n      <td>...</td>\n      <td>[{'id': 1416, 'name': 'jazz'}, {'id': 1523, 'n...</td>\n      <td>[{'cast_id': 5, 'character': 'Andrew Neimann',...</td>\n      <td>[{'credit_id': '54d5356ec3a3683ba0000039', 'de...</td>\n      <td>13092000</td>\n      <td>16.387512</td>\n      <td>10</td>\n      <td>10</td>\n      <td>2014</td>\n      <td>4</td>\n      <td>4</td>\n    </tr>\n    <tr>\n      <th>3</th>\n      <td>4</td>\n      <td>NaN</td>\n      <td>1200000</td>\n      <td>[{'id': 53, 'name': 'Thriller'}, {'id': 18, 'n...</td>\n      <td>http://kahaanithefilm.com/</td>\n      <td>tt1821480</td>\n      <td>hi</td>\n      <td>Kahaani</td>\n      <td>Vidya Bagchi (Vidya Balan) arrives in Kolkata ...</td>\n      <td>3.174936</td>\n      <td>...</td>\n      <td>[{'id': 10092, 'name': 'mystery'}, {'id': 1054...</td>\n      <td>[{'cast_id': 1, 'character': 'Vidya Bagchi', '...</td>\n      <td>[{'credit_id': '52fe48779251416c9108d6eb', 'de...</td>\n      <td>16000000</td>\n      <td>16.588099</td>\n      <td>3</td>\n      <td>9</td>\n      <td>2012</td>\n      <td>4</td>\n      <td>1</td>\n    </tr>\n    <tr>\n      <th>4</th>\n      <td>5</td>\n      <td>NaN</td>\n      <td>0</td>\n      <td>[{'id': 28, 'name': 'Action'}, {'id': 53, 'nam...</td>\n      <td>NaN</td>\n      <td>tt1380152</td>\n      <td>ko</td>\n      <td>마린보이</td>\n      <td>Marine Boy is the story of a former national s...</td>\n      <td>1.148070</td>\n      <td>...</td>\n      <td>NaN</td>\n      <td>[{'cast_id': 3, 'character': 'Chun-soo', 'cred...</td>\n      <td>[{'credit_id': '52fe464b9251416c75073b43', 'de...</td>\n      <td>3923970</td>\n      <td>15.182615</td>\n      <td>2</td>\n      <td>5</td>\n      <td>2009</td>\n      <td>3</td>\n      <td>1</td>\n    </tr>\n    <tr>\n      <th>5</th>\n      <td>6</td>\n      <td>NaN</td>\n      <td>8000000</td>\n      <td>[{'id': 16, 'name': 'Animation'}, {'id': 12, '...</td>\n      <td>NaN</td>\n      <td>tt0093743</td>\n      <td>en</td>\n      <td>Pinocchio and the Emperor of the Night</td>\n      <td>Pinocchio and his friends, a glow worm and a m...</td>\n      <td>0.743274</td>\n      <td>...</td>\n      <td>NaN</td>\n      <td>[{'cast_id': 6, 'character': 'Pinocchio (voice...</td>\n      <td>[{'credit_id': '52fe46f49251416c9106558b', 'de...</td>\n      <td>3261638</td>\n      <td>14.997740</td>\n      <td>8</td>\n      <td>6</td>\n      <td>1987</td>\n      <td>3</td>\n      <td>3</td>\n    </tr>\n    <tr>\n      <th>6</th>\n      <td>7</td>\n      <td>NaN</td>\n      <td>14000000</td>\n      <td>[{'id': 27, 'name': 'Horror'}, {'id': 53, 'nam...</td>\n      <td>http://www.thepossessionmovie.com/</td>\n      <td>tt0431021</td>\n      <td>en</td>\n      <td>The Possession</td>\n      <td>A young girl buys an antique box at a yard sal...</td>\n      <td>7.286477</td>\n      <td>...</td>\n      <td>NaN</td>\n      <td>[{'cast_id': 23, 'character': 'Clyde', 'credit...</td>\n      <td>[{'credit_id': '52fe4981c3a368484e12ee29', 'de...</td>\n      <td>85446075</td>\n      <td>18.263396</td>\n      <td>8</td>\n      <td>30</td>\n      <td>2012</td>\n      <td>3</td>\n      <td>3</td>\n    </tr>\n    <tr>\n      <th>7</th>\n      <td>8</td>\n      <td>NaN</td>\n      <td>0</td>\n      <td>[{'id': 99, 'name': 'Documentary'}]</td>\n      <td>NaN</td>\n      <td>tt0391024</td>\n      <td>en</td>\n      <td>Control Room</td>\n      <td>A chronicle which provides a rare window into ...</td>\n      <td>1.949044</td>\n      <td>...</td>\n      <td>[{'id': 917, 'name': 'journalism'}, {'id': 163...</td>\n      <td>[{'cast_id': 2, 'character': 'Himself', 'credi...</td>\n      <td>[{'credit_id': '52fe47a69251416c750a0daf', 'de...</td>\n      <td>2586511</td>\n      <td>14.765821</td>\n      <td>1</td>\n      <td>15</td>\n      <td>2004</td>\n      <td>3</td>\n      <td>1</td>\n    </tr>\n    <tr>\n      <th>8</th>\n      <td>9</td>\n      <td>[{'id': 256377, 'name': 'The Muppet Collection...</td>\n      <td>0</td>\n      <td>[{'id': 28, 'name': 'Action'}, {'id': 35, 'nam...</td>\n      <td>NaN</td>\n      <td>tt0117110</td>\n      <td>en</td>\n      <td>Muppet Treasure Island</td>\n      <td>After telling the story of Flint's last journe...</td>\n      <td>6.902423</td>\n      <td>...</td>\n      <td>[{'id': 2041, 'name': 'island'}, {'id': 4418, ...</td>\n      <td>[{'cast_id': 1, 'character': 'Long John Silver...</td>\n      <td>[{'credit_id': '52fe43c89251416c7501deb3', 'de...</td>\n      <td>34327391</td>\n      <td>17.351454</td>\n      <td>2</td>\n      <td>16</td>\n      <td>1996</td>\n      <td>4</td>\n      <td>1</td>\n    </tr>\n    <tr>\n      <th>9</th>\n      <td>10</td>\n      <td>NaN</td>\n      <td>6000000</td>\n      <td>[{'id': 35, 'name': 'Comedy'}, {'id': 10402, '...</td>\n      <td>NaN</td>\n      <td>tt0310281</td>\n      <td>en</td>\n      <td>A Mighty Wind</td>\n      <td>In \"A Mighty Wind\", director Christopher Guest...</td>\n      <td>4.672036</td>\n      <td>...</td>\n      <td>[{'id': 11800, 'name': 'mockumentary'}, {'id':...</td>\n      <td>[{'cast_id': 24, 'character': 'Jonathan Steinb...</td>\n      <td>[{'credit_id': '52fe45609251416c750545b3', 'de...</td>\n      <td>18750246</td>\n      <td>16.746717</td>\n      <td>4</td>\n      <td>16</td>\n      <td>2003</td>\n      <td>2</td>\n      <td>2</td>\n    </tr>\n  </tbody>\n</table>\n<p>10 rows × 29 columns</p>\n</div>"
     },
     "execution_count": 357,
     "metadata": {},
     "output_type": "execute_result"
    }
   ],
   "source": [
    "train_data.head(10)"
   ],
   "metadata": {
    "collapsed": false,
    "ExecuteTime": {
     "end_time": "2023-05-12T12:23:08.183034Z",
     "start_time": "2023-05-12T12:23:08.171464Z"
    }
   }
  },
  {
   "cell_type": "markdown",
   "source": [
    "Features in JSON format to nominal format:"
   ],
   "metadata": {
    "collapsed": false
   }
  },
  {
   "cell_type": "code",
   "execution_count": 358,
   "outputs": [],
   "source": [
    "def get_dictionary(s):\n",
    "    try:\n",
    "        d = eval(s)\n",
    "    except:\n",
    "        d = {}\n",
    "    return d"
   ],
   "metadata": {
    "collapsed": false,
    "ExecuteTime": {
     "end_time": "2023-05-12T12:23:08.194265Z",
     "start_time": "2023-05-12T12:23:08.173828Z"
    }
   }
  },
  {
   "cell_type": "code",
   "execution_count": 359,
   "outputs": [],
   "source": [
    "def get_genres(df):\n",
    "    df['genres'] = df['genres'].map(lambda x: sorted([d['name'] for d in get_dictionary(x)])).map(lambda x: ','.join(map(str, x)))\n",
    "    genres = df.genres.str.get_dummies(sep=',')\n",
    "    df = pd.concat([df, genres], axis=1, sort=False)\n",
    "    print(\"Action Genres Movie           \", df[df.Action == 1].shape[0])\n",
    "    print(\"Adventure Genres Movie        \", df[df.Adventure == 1].shape[0])\n",
    "    print(\"Animation Genres Movie        \", df[df.Animation == 1].shape[0])\n",
    "    print(\"Comedy Genres Movie           \", df[df.Comedy == 1].shape[0])\n",
    "    print(\"Crime Genres Movie            \", df[df.Crime == 1].shape[0])\n",
    "    print(\"Documentary Genres Movie      \", df[df.Documentary == 1].shape[0])\n",
    "    print(\"Drama Genres Movie            \", df[df.Drama == 1].shape[0])\n",
    "    print(\"Family Genres Movie           \", df[df.Family == 1].shape[0])\n",
    "    print(\"Fantasy Genres Movie          \", df[df.Fantasy == 1].shape[0])\n",
    "    print(\"Foreign Genres Movie          \", df[df.Foreign == 1].shape[0])\n",
    "    print(\"History Genres Movie          \", df[df.History == 1].shape[0])\n",
    "    print(\"Music Genres Movie            \", df[df.Music == 1].shape[0])\n",
    "    print(\"Mystery Genres Movie          \", df[df.Mystery == 1].shape[0])\n",
    "    print(\"Romance Genres Movie          \", df[df.Romance == 1].shape[0])\n",
    "    try:\n",
    "        print(\"Science Fiction Genres Movie  \", df[df['Science Fiction'] == 1].shape[0])\n",
    "        print(\"TV Movie Genres Movie         \", df[df['TV Movie'] == 1].shape[0])\n",
    "    finally:\n",
    "        print(\"Thriller Genres Movie         \", df[df.Thriller == 1].shape[0])\n",
    "        print(\"War Genres Movie              \", df[df.War == 1].shape[0])\n",
    "        print(\"Western Genres Movie          \", df[df.Western == 1].shape[0])\n",
    "        return df"
   ],
   "metadata": {
    "collapsed": false,
    "ExecuteTime": {
     "end_time": "2023-05-12T12:23:08.252124Z",
     "start_time": "2023-05-12T12:23:08.193639Z"
    }
   }
  },
  {
   "cell_type": "code",
   "execution_count": 360,
   "outputs": [
    {
     "name": "stdout",
     "output_type": "stream",
     "text": [
      "Action Genres Movie            741\n",
      "Adventure Genres Movie         439\n",
      "Animation Genres Movie         141\n",
      "Comedy Genres Movie            1028\n",
      "Crime Genres Movie             469\n",
      "Documentary Genres Movie       87\n",
      "Drama Genres Movie             1531\n",
      "Family Genres Movie            260\n",
      "Fantasy Genres Movie           232\n",
      "Foreign Genres Movie           31\n",
      "History Genres Movie           132\n",
      "Music Genres Movie             100\n",
      "Mystery Genres Movie           225\n",
      "Romance Genres Movie           571\n",
      "Science Fiction Genres Movie   290\n",
      "TV Movie Genres Movie          1\n",
      "Thriller Genres Movie          789\n",
      "War Genres Movie               100\n",
      "Western Genres Movie           43\n"
     ]
    }
   ],
   "source": [
    "train = get_genres(train_data)"
   ],
   "metadata": {
    "collapsed": false,
    "ExecuteTime": {
     "end_time": "2023-05-12T12:23:08.268216Z",
     "start_time": "2023-05-12T12:23:08.199627Z"
    }
   }
  },
  {
   "cell_type": "code",
   "execution_count": 361,
   "outputs": [
    {
     "name": "stdout",
     "output_type": "stream",
     "text": [
      "Action Genres Movie            994\n",
      "Adventure Genres Movie         677\n",
      "Animation Genres Movie         241\n",
      "Comedy Genres Movie            1577\n",
      "Crime Genres Movie             615\n",
      "Documentary Genres Movie       134\n",
      "Drama Genres Movie             2145\n",
      "Family Genres Movie            415\n",
      "Fantasy Genres Movie           396\n",
      "Foreign Genres Movie           53\n",
      "History Genres Movie           163\n",
      "Music Genres Movie             167\n",
      "Mystery Genres Movie           325\n",
      "Romance Genres Movie           864\n",
      "Science Fiction Genres Movie   454\n",
      "Thriller Genres Movie          1080\n",
      "War Genres Movie               143\n",
      "Western Genres Movie           74\n"
     ]
    }
   ],
   "source": [
    "test = get_genres(test_data)"
   ],
   "metadata": {
    "collapsed": false,
    "ExecuteTime": {
     "end_time": "2023-05-12T12:23:08.344408Z",
     "start_time": "2023-05-12T12:23:08.316906Z"
    }
   }
  },
  {
   "cell_type": "code",
   "execution_count": 362,
   "outputs": [
    {
     "data": {
      "text/plain": "Index(['id', 'belongs_to_collection', 'budget', 'genres', 'homepage',\n       'imdb_id', 'original_language', 'original_title', 'overview',\n       'popularity', 'poster_path', 'production_companies',\n       'production_countries', 'release_date', 'runtime', 'spoken_languages',\n       'status', 'tagline', 'title', 'Keywords', 'cast', 'crew', 'revenue',\n       'logRevenue', 'release_month', 'release_day', 'release_year',\n       'release_dayofweek', 'release_quarter'],\n      dtype='object')"
     },
     "execution_count": 362,
     "metadata": {},
     "output_type": "execute_result"
    }
   ],
   "source": [
    "train_data.columns"
   ],
   "metadata": {
    "collapsed": false,
    "ExecuteTime": {
     "end_time": "2023-05-12T12:23:08.348378Z",
     "start_time": "2023-05-12T12:23:08.344659Z"
    }
   }
  },
  {
   "cell_type": "code",
   "execution_count": 363,
   "outputs": [],
   "source": [
    "def prepare(df):\n",
    "    global json_cols\n",
    "    global train_dict\n",
    "\n",
    "    df[['release_month','release_day','release_year']]=df['release_date'].str.split('/',expand=True).replace(np.nan, 0).astype(int)\n",
    "    df['release_year'] = df['release_year']\n",
    "    df.loc[ (df['release_year'] <= 19) & (df['release_year'] < 100), \"release_year\"] += 2000\n",
    "    df.loc[ (df['release_year'] > 19)  & (df['release_year'] < 100), \"release_year\"] += 1900\n",
    "\n",
    "    releaseDate = pd.to_datetime(df['release_date'])\n",
    "    df['release_dayofweek'] = releaseDate.dt.dayofweek\n",
    "    df['release_quarter'] = releaseDate.dt.quarter\n",
    "\n",
    "    df['originalBudget'] = df['budget']\n",
    "    df['inflationBudget'] = df['budget'] + df['budget']*1.8/100*(2018-df['release_year']) #Inflation simple formula\n",
    "    df['budget'] = np.log1p(df['budget'])\n",
    "\n",
    "    df['genders_0_crew'] = df['crew'].apply(lambda x: sum([1 for i in x if i['gender'] == 0]))\n",
    "    df['genders_1_crew'] = df['crew'].apply(lambda x: sum([1 for i in x if i['gender'] == 1]))\n",
    "    df['genders_2_crew'] = df['crew'].apply(lambda x: sum([1 for i in x if i['gender'] == 2]))\n",
    "    df['_collection_name'] = df['belongs_to_collection'].apply(lambda x: x[0]['name'] if x != {} else 0)\n",
    "    le = LabelEncoder()\n",
    "    le.fit(list(df['_collection_name'].fillna('')))\n",
    "    df['_collection_name'] = le.transform(df['_collection_name'].fillna('').astype(str))\n",
    "    df['_num_Keywords'] = df['Keywords'].apply(lambda x: len(x) if x != {} else 0)\n",
    "    df['_num_cast'] = df['cast'].apply(lambda x: len(x) if x != {} else 0)\n",
    "\n",
    "    df['_popularity_mean_year'] = df['popularity'] / df.groupby(\"release_year\")[\"popularity\"].transform('mean')\n",
    "    df['_budget_runtime_ratio'] = df['budget']/df['runtime']\n",
    "    df['_budget_popularity_ratio'] = df['budget']/df['popularity']\n",
    "    df['_budget_year_ratio'] = df['budget']/(df['release_year']*df['release_year'])\n",
    "    df['_releaseYear_popularity_ratio'] = df['release_year']/df['popularity']\n",
    "    df['_releaseYear_popularity_ratio2'] = df['popularity']/df['release_year']\n",
    "\n",
    "    df['has_homepage'] = 1\n",
    "    df.loc[pd.isnull(df['homepage']) ,\"has_homepage\"] = 0\n",
    "\n",
    "    df['isbelongs_to_collectionNA'] = 0\n",
    "    df.loc[pd.isnull(df['belongs_to_collection']) ,\"isbelongs_to_collectionNA\"] = 1\n",
    "\n",
    "    df['isTaglineNA'] = 0\n",
    "    df.loc[df['tagline'] == 0 ,\"isTaglineNA\"] = 1\n",
    "\n",
    "    df['isOriginalLanguageEng'] = 0\n",
    "    df.loc[ df['original_language'] == \"en\" ,\"isOriginalLanguageEng\"] = 1\n",
    "\n",
    "    df['isTitleDifferent'] = 1\n",
    "    df.loc[ df['original_title'] == df['title'] ,\"isTitleDifferent\"] = 0\n",
    "\n",
    "    df['isMovieReleased'] = 1\n",
    "    df.loc[ df['status'] != \"Released\" ,\"isMovieReleased\"] = 0\n",
    "\n",
    "    # get collection id\n",
    "    df['collection_id'] = df['belongs_to_collection'].apply(lambda x : np.nan if len(x)==0 else x[0]['id'])\n",
    "\n",
    "    df['original_title_letter_count'] = df['original_title'].str.len()\n",
    "    df['original_title_word_count'] = df['original_title'].str.split().str.len()\n",
    "\n",
    "\n",
    "    df['title_word_count'] = df['title'].str.split().str.len()\n",
    "    df['overview_word_count'] = df['overview'].str.split().str.len()\n",
    "    df['tagline_word_count'] = df['tagline'].str.split().str.len()\n",
    "\n",
    "    df['production_countries_count'] = df['production_countries'].apply(lambda x : len(x))\n",
    "    df['production_companies_count'] = df['production_companies'].apply(lambda x : len(x))\n",
    "    df['cast_count'] = df['cast'].apply(lambda x : len(x))\n",
    "    df['crew_count'] = df['crew'].apply(lambda x : len(x))\n",
    "\n",
    "    df['meanruntimeByYear'] = df.groupby(\"release_year\")[\"runtime\"].aggregate('mean')\n",
    "    df['meanPopularityByYear'] = df.groupby(\"release_year\")[\"popularity\"].aggregate('mean')\n",
    "    df['meanBudgetByYear'] = df.groupby(\"release_year\")[\"budget\"].aggregate('mean')\n",
    "    df['medianBudgetByYear'] = df.groupby(\"release_year\")[\"budget\"].aggregate('median')\n",
    "\n",
    "    for col in ['genres', 'production_countries', 'spoken_languages', 'production_companies'] :\n",
    "        df[col] = df[col].map(lambda x: sorted(list(set([n if n in train_dict[col] else col+'_etc' for n in [d['name'] for d in x]])))).map(lambda x: ','.join(map(str, x)))\n",
    "        temp = df[col].str.get_dummies(sep=',')\n",
    "        df = pd.concat([df, temp], axis=1, sort=False)\n",
    "    #df.drop(['genres_etc'], axis = 1, inplace = True)\n",
    "\n",
    "    df = df.drop(['belongs_to_collection','genres','homepage','imdb_id','overview','runtime'\n",
    "    ,'poster_path','production_companies','production_countries','release_date','spoken_languages'\n",
    "    ,'status','title','Keywords','cast','crew','original_language','original_title','tagline', 'collection_id'\n",
    "    ],axis=1)\n",
    "\n",
    "    df.fillna(value=0.0, inplace = True)\n",
    "\n",
    "    return df"
   ],
   "metadata": {
    "collapsed": false,
    "ExecuteTime": {
     "end_time": "2023-05-12T12:23:08.356395Z",
     "start_time": "2023-05-12T12:23:08.355188Z"
    }
   }
  },
  {
   "cell_type": "code",
   "execution_count": 364,
   "outputs": [
    {
     "name": "stderr",
     "output_type": "stream",
     "text": [
      "100%|██████████| 8/8 [00:04<00:00,  1.61it/s]\n"
     ]
    }
   ],
   "source": [
    "json_cols = ['genres', 'production_companies', 'production_countries', 'spoken_languages', 'Keywords', 'cast', 'crew']\n",
    "\n",
    "for col in tqdm(json_cols + ['belongs_to_collection']) :\n",
    "    train[col] = train[col].apply(lambda x : get_dictionary(x))\n",
    "    test[col] = test[col].apply(lambda x : get_dictionary(x))"
   ],
   "metadata": {
    "collapsed": false,
    "ExecuteTime": {
     "end_time": "2023-05-12T12:23:13.330695Z",
     "start_time": "2023-05-12T12:23:08.359628Z"
    }
   }
  },
  {
   "cell_type": "code",
   "execution_count": 365,
   "outputs": [],
   "source": [
    "def get_json_dict(df) :\n",
    "    global json_cols\n",
    "    result = dict()\n",
    "    for e_col in json_cols :\n",
    "        d = dict()\n",
    "        rows = df[e_col].values\n",
    "        for row in rows :\n",
    "            if row is None : continue\n",
    "            for i in row :\n",
    "                if i['name'] not in d :\n",
    "                    d[i['name']] = 0\n",
    "                d[i['name']] += 1\n",
    "        result[e_col] = d\n",
    "    return result"
   ],
   "metadata": {
    "collapsed": false,
    "ExecuteTime": {
     "end_time": "2023-05-12T12:23:13.333014Z",
     "start_time": "2023-05-12T12:23:13.331159Z"
    }
   }
  },
  {
   "cell_type": "code",
   "execution_count": 366,
   "outputs": [],
   "source": [
    "train_dict = get_json_dict(train)\n",
    "test_dict = get_json_dict(test)"
   ],
   "metadata": {
    "collapsed": false,
    "ExecuteTime": {
     "end_time": "2023-05-12T12:23:13.418166Z",
     "start_time": "2023-05-12T12:23:13.333663Z"
    }
   }
  },
  {
   "cell_type": "code",
   "execution_count": 367,
   "outputs": [],
   "source": [
    "# remove cateogry with bias and low frequency\n",
    "for col in json_cols :\n",
    "\n",
    "    remove = []\n",
    "    train_id = set(list(train_dict[col].keys()))\n",
    "    test_id = set(list(test_dict[col].keys()))\n",
    "\n",
    "    remove += list(train_id - test_id) + list(test_id - train_id)\n",
    "    for i in train_id.union(test_id) - set(remove) :\n",
    "        if train_dict[col][i] < 10 or i == '' :\n",
    "            remove += [i]\n",
    "\n",
    "    for i in remove :\n",
    "        if i in train_dict[col] :\n",
    "            del train_dict[col][i]\n",
    "        if i in test_dict[col] :\n",
    "            del test_dict[col][i]\n",
    "\n",
    "all_data = prepare(pd.concat([train, test]).reset_index(drop = True))\n",
    "train = all_data.loc[:train.shape[0] - 1,:]\n",
    "test = all_data.loc[train.shape[0]:,:]"
   ],
   "metadata": {
    "collapsed": false,
    "ExecuteTime": {
     "end_time": "2023-05-12T12:23:14.136696Z",
     "start_time": "2023-05-12T12:23:13.424945Z"
    }
   }
  },
  {
   "cell_type": "code",
   "execution_count": 368,
   "outputs": [
    {
     "data": {
      "text/plain": "        id     budget  popularity  revenue  logRevenue  release_month  \\\n3000  3001   0.000000    3.851534      0.0         0.0              7   \n3001  3002  11.385103    3.559789      0.0         0.0              5   \n3002  3003   0.000000    8.085194      0.0         0.0              5   \n3003  3004  15.732433    8.596012      0.0         0.0              9   \n3004  3005  14.508658    3.217680      0.0         0.0              2   \n...    ...        ...         ...      ...         ...            ...   \n7393  7394  17.553180    9.970359      0.0         0.0              8   \n7394  7395  16.759950    6.046516      0.0         0.0              8   \n7395  7396  16.588099    9.596883      0.0         0.0             12   \n7396  7397  14.508658   20.359336      0.0         0.0              2   \n7397  7398  11.066654   11.305910      0.0         0.0              9   \n\n      release_day  release_year  release_dayofweek  release_quarter  ...  \\\n3000           14          2007                5.0              3.0  ...   \n3001           19          1958                6.0              2.0  ...   \n3002           23          1997                4.0              2.0  ...   \n3003            4          2010                5.0              3.0  ...   \n3004           11          2005                4.0              1.0  ...   \n...           ...           ...                ...              ...  ...   \n7393            3          2001                4.0              3.0  ...   \n7394           20          2004                4.0              3.0  ...   \n7395            8          1982                2.0              4.0  ...   \n7396            4          2015                2.0              1.0  ...   \n7397           20          1962                2.0              3.0  ...   \n\n      UK Film Council  United Artists  Universal Pictures  \\\n3000                0               0                   0   \n3001                0               0                   0   \n3002                0               0                   0   \n3003                0               0                   0   \n3004                0               0                   0   \n...               ...             ...                 ...   \n7393                0               0                   0   \n7394                0               0                   0   \n7395                0               0                   0   \n7396                0               0                   0   \n7397                0               0                   0   \n\n      Village Roadshow Pictures  Walt Disney Pictures  Warner Bros.  \\\n3000                          0                     0             0   \n3001                          0                     0             0   \n3002                          0                     0             1   \n3003                          0                     0             0   \n3004                          0                     0             0   \n...                         ...                   ...           ...   \n7393                          0                     0             0   \n7394                          0                     0             0   \n7395                          0                     0             0   \n7396                          0                     0             0   \n7397                          0                     0             0   \n\n      Wild Bunch  Wildwood Enterprises  Working Title Films  \\\n3000           0                     0                    0   \n3001           0                     0                    0   \n3002           0                     0                    0   \n3003           0                     0                    0   \n3004           0                     0                    0   \n...          ...                   ...                  ...   \n7393           0                     0                    0   \n7394           0                     0                    0   \n7395           0                     0                    0   \n7396           0                     0                    0   \n7397           0                     0                    0   \n\n      production_companies_etc  \n3000                         0  \n3001                         1  \n3002                         1  \n3003                         1  \n3004                         0  \n...                        ...  \n7393                         1  \n7394                         1  \n7395                         0  \n7396                         1  \n7397                         1  \n\n[4398 rows x 195 columns]",
      "text/html": "<div>\n<style scoped>\n    .dataframe tbody tr th:only-of-type {\n        vertical-align: middle;\n    }\n\n    .dataframe tbody tr th {\n        vertical-align: top;\n    }\n\n    .dataframe thead th {\n        text-align: right;\n    }\n</style>\n<table border=\"1\" class=\"dataframe\">\n  <thead>\n    <tr style=\"text-align: right;\">\n      <th></th>\n      <th>id</th>\n      <th>budget</th>\n      <th>popularity</th>\n      <th>revenue</th>\n      <th>logRevenue</th>\n      <th>release_month</th>\n      <th>release_day</th>\n      <th>release_year</th>\n      <th>release_dayofweek</th>\n      <th>release_quarter</th>\n      <th>...</th>\n      <th>UK Film Council</th>\n      <th>United Artists</th>\n      <th>Universal Pictures</th>\n      <th>Village Roadshow Pictures</th>\n      <th>Walt Disney Pictures</th>\n      <th>Warner Bros.</th>\n      <th>Wild Bunch</th>\n      <th>Wildwood Enterprises</th>\n      <th>Working Title Films</th>\n      <th>production_companies_etc</th>\n    </tr>\n  </thead>\n  <tbody>\n    <tr>\n      <th>3000</th>\n      <td>3001</td>\n      <td>0.000000</td>\n      <td>3.851534</td>\n      <td>0.0</td>\n      <td>0.0</td>\n      <td>7</td>\n      <td>14</td>\n      <td>2007</td>\n      <td>5.0</td>\n      <td>3.0</td>\n      <td>...</td>\n      <td>0</td>\n      <td>0</td>\n      <td>0</td>\n      <td>0</td>\n      <td>0</td>\n      <td>0</td>\n      <td>0</td>\n      <td>0</td>\n      <td>0</td>\n      <td>0</td>\n    </tr>\n    <tr>\n      <th>3001</th>\n      <td>3002</td>\n      <td>11.385103</td>\n      <td>3.559789</td>\n      <td>0.0</td>\n      <td>0.0</td>\n      <td>5</td>\n      <td>19</td>\n      <td>1958</td>\n      <td>6.0</td>\n      <td>2.0</td>\n      <td>...</td>\n      <td>0</td>\n      <td>0</td>\n      <td>0</td>\n      <td>0</td>\n      <td>0</td>\n      <td>0</td>\n      <td>0</td>\n      <td>0</td>\n      <td>0</td>\n      <td>1</td>\n    </tr>\n    <tr>\n      <th>3002</th>\n      <td>3003</td>\n      <td>0.000000</td>\n      <td>8.085194</td>\n      <td>0.0</td>\n      <td>0.0</td>\n      <td>5</td>\n      <td>23</td>\n      <td>1997</td>\n      <td>4.0</td>\n      <td>2.0</td>\n      <td>...</td>\n      <td>0</td>\n      <td>0</td>\n      <td>0</td>\n      <td>0</td>\n      <td>0</td>\n      <td>1</td>\n      <td>0</td>\n      <td>0</td>\n      <td>0</td>\n      <td>1</td>\n    </tr>\n    <tr>\n      <th>3003</th>\n      <td>3004</td>\n      <td>15.732433</td>\n      <td>8.596012</td>\n      <td>0.0</td>\n      <td>0.0</td>\n      <td>9</td>\n      <td>4</td>\n      <td>2010</td>\n      <td>5.0</td>\n      <td>3.0</td>\n      <td>...</td>\n      <td>0</td>\n      <td>0</td>\n      <td>0</td>\n      <td>0</td>\n      <td>0</td>\n      <td>0</td>\n      <td>0</td>\n      <td>0</td>\n      <td>0</td>\n      <td>1</td>\n    </tr>\n    <tr>\n      <th>3004</th>\n      <td>3005</td>\n      <td>14.508658</td>\n      <td>3.217680</td>\n      <td>0.0</td>\n      <td>0.0</td>\n      <td>2</td>\n      <td>11</td>\n      <td>2005</td>\n      <td>4.0</td>\n      <td>1.0</td>\n      <td>...</td>\n      <td>0</td>\n      <td>0</td>\n      <td>0</td>\n      <td>0</td>\n      <td>0</td>\n      <td>0</td>\n      <td>0</td>\n      <td>0</td>\n      <td>0</td>\n      <td>0</td>\n    </tr>\n    <tr>\n      <th>...</th>\n      <td>...</td>\n      <td>...</td>\n      <td>...</td>\n      <td>...</td>\n      <td>...</td>\n      <td>...</td>\n      <td>...</td>\n      <td>...</td>\n      <td>...</td>\n      <td>...</td>\n      <td>...</td>\n      <td>...</td>\n      <td>...</td>\n      <td>...</td>\n      <td>...</td>\n      <td>...</td>\n      <td>...</td>\n      <td>...</td>\n      <td>...</td>\n      <td>...</td>\n      <td>...</td>\n    </tr>\n    <tr>\n      <th>7393</th>\n      <td>7394</td>\n      <td>17.553180</td>\n      <td>9.970359</td>\n      <td>0.0</td>\n      <td>0.0</td>\n      <td>8</td>\n      <td>3</td>\n      <td>2001</td>\n      <td>4.0</td>\n      <td>3.0</td>\n      <td>...</td>\n      <td>0</td>\n      <td>0</td>\n      <td>0</td>\n      <td>0</td>\n      <td>0</td>\n      <td>0</td>\n      <td>0</td>\n      <td>0</td>\n      <td>0</td>\n      <td>1</td>\n    </tr>\n    <tr>\n      <th>7394</th>\n      <td>7395</td>\n      <td>16.759950</td>\n      <td>6.046516</td>\n      <td>0.0</td>\n      <td>0.0</td>\n      <td>8</td>\n      <td>20</td>\n      <td>2004</td>\n      <td>4.0</td>\n      <td>3.0</td>\n      <td>...</td>\n      <td>0</td>\n      <td>0</td>\n      <td>0</td>\n      <td>0</td>\n      <td>0</td>\n      <td>0</td>\n      <td>0</td>\n      <td>0</td>\n      <td>0</td>\n      <td>1</td>\n    </tr>\n    <tr>\n      <th>7395</th>\n      <td>7396</td>\n      <td>16.588099</td>\n      <td>9.596883</td>\n      <td>0.0</td>\n      <td>0.0</td>\n      <td>12</td>\n      <td>8</td>\n      <td>1982</td>\n      <td>2.0</td>\n      <td>4.0</td>\n      <td>...</td>\n      <td>0</td>\n      <td>0</td>\n      <td>0</td>\n      <td>0</td>\n      <td>0</td>\n      <td>0</td>\n      <td>0</td>\n      <td>0</td>\n      <td>0</td>\n      <td>0</td>\n    </tr>\n    <tr>\n      <th>7396</th>\n      <td>7397</td>\n      <td>14.508658</td>\n      <td>20.359336</td>\n      <td>0.0</td>\n      <td>0.0</td>\n      <td>2</td>\n      <td>4</td>\n      <td>2015</td>\n      <td>2.0</td>\n      <td>1.0</td>\n      <td>...</td>\n      <td>0</td>\n      <td>0</td>\n      <td>0</td>\n      <td>0</td>\n      <td>0</td>\n      <td>0</td>\n      <td>0</td>\n      <td>0</td>\n      <td>0</td>\n      <td>1</td>\n    </tr>\n    <tr>\n      <th>7397</th>\n      <td>7398</td>\n      <td>11.066654</td>\n      <td>11.305910</td>\n      <td>0.0</td>\n      <td>0.0</td>\n      <td>9</td>\n      <td>20</td>\n      <td>1962</td>\n      <td>2.0</td>\n      <td>3.0</td>\n      <td>...</td>\n      <td>0</td>\n      <td>0</td>\n      <td>0</td>\n      <td>0</td>\n      <td>0</td>\n      <td>0</td>\n      <td>0</td>\n      <td>0</td>\n      <td>0</td>\n      <td>1</td>\n    </tr>\n  </tbody>\n</table>\n<p>4398 rows × 195 columns</p>\n</div>"
     },
     "execution_count": 368,
     "metadata": {},
     "output_type": "execute_result"
    }
   ],
   "source": [
    "test"
   ],
   "metadata": {
    "collapsed": false,
    "ExecuteTime": {
     "end_time": "2023-05-12T12:23:14.149242Z",
     "start_time": "2023-05-12T12:23:14.141657Z"
    }
   }
  },
  {
   "cell_type": "code",
   "execution_count": 369,
   "outputs": [],
   "source": [
    "from sklearn.impute import SimpleImputer\n",
    "\n",
    "train = train.replace([np.inf, -np.inf], np.nan)\n",
    "test = test.replace([np.inf, -np.inf], np.nan)\n",
    "\n",
    "imputer = SimpleImputer(strategy='mean')  # or 'median', 'most_frequent', 'constant'\n",
    "train = pd.DataFrame(imputer.fit_transform(train), columns=train.columns)\n",
    "test = pd.DataFrame(imputer.fit_transform(test), columns=test.columns)"
   ],
   "metadata": {
    "collapsed": false,
    "ExecuteTime": {
     "end_time": "2023-05-12T12:23:14.207944Z",
     "start_time": "2023-05-12T12:23:14.148010Z"
    }
   }
  },
  {
   "cell_type": "code",
   "execution_count": 370,
   "outputs": [
    {
     "data": {
      "text/plain": "          id     budget  popularity      revenue  logRevenue  release_month  \\\n0        1.0  16.454568    6.575393   12314651.0   16.326300            2.0   \n1        2.0  17.504390    8.248895   95149435.0   18.370959            8.0   \n2        3.0  15.009433   64.299990   13092000.0   16.387512           10.0   \n3        4.0  13.997833    3.174936   16000000.0   16.588099            3.0   \n4        5.0   0.000000    1.148070    3923970.0   15.182615            2.0   \n...      ...        ...         ...          ...         ...            ...   \n2995  2996.0   0.000000    9.853270    1596687.0   14.283442            4.0   \n2996  2997.0   0.000000    3.727996     180590.0   12.103990            3.0   \n2997  2998.0  17.989898   14.482345   89456761.0   18.309266           10.0   \n2998  2999.0  17.553180   15.725542  171963386.0   18.962792            1.0   \n2999  3000.0  17.370859   10.512109   82087155.0   18.223292            9.0   \n\n      release_day  release_year  release_dayofweek  release_quarter  ...  \\\n0            20.0        2015.0                4.0              1.0  ...   \n1             6.0        2004.0                4.0              3.0  ...   \n2            10.0        2014.0                4.0              4.0  ...   \n3             9.0        2012.0                4.0              1.0  ...   \n4             5.0        2009.0                3.0              1.0  ...   \n...           ...           ...                ...              ...  ...   \n2995         22.0        1994.0                4.0              2.0  ...   \n2996         28.0        2013.0                3.0              1.0  ...   \n2997         11.0        1996.0                4.0              4.0  ...   \n2998         16.0        2004.0                4.0              1.0  ...   \n2999         22.0        2011.0                3.0              3.0  ...   \n\n      UK Film Council  United Artists  Universal Pictures  \\\n0                 0.0             1.0                 0.0   \n1                 0.0             0.0                 0.0   \n2                 0.0             0.0                 0.0   \n3                 0.0             0.0                 0.0   \n4                 0.0             0.0                 0.0   \n...               ...             ...                 ...   \n2995              0.0             0.0                 0.0   \n2996              0.0             0.0                 0.0   \n2997              0.0             0.0                 0.0   \n2998              0.0             0.0                 0.0   \n2999              0.0             0.0                 0.0   \n\n      Village Roadshow Pictures  Walt Disney Pictures  Warner Bros.  \\\n0                           0.0                   0.0           0.0   \n1                           0.0                   1.0           0.0   \n2                           0.0                   0.0           0.0   \n3                           0.0                   0.0           0.0   \n4                           0.0                   0.0           0.0   \n...                         ...                   ...           ...   \n2995                        0.0                   0.0           1.0   \n2996                        0.0                   0.0           0.0   \n2997                        0.0                   0.0           0.0   \n2998                        0.0                   0.0           0.0   \n2999                        0.0                   0.0           0.0   \n\n      Wild Bunch  Wildwood Enterprises  Working Title Films  \\\n0            0.0                   0.0                  0.0   \n1            0.0                   0.0                  0.0   \n2            0.0                   0.0                  0.0   \n3            0.0                   0.0                  0.0   \n4            0.0                   0.0                  0.0   \n...          ...                   ...                  ...   \n2995         0.0                   0.0                  0.0   \n2996         0.0                   0.0                  0.0   \n2997         0.0                   0.0                  0.0   \n2998         0.0                   0.0                  0.0   \n2999         0.0                   0.0                  0.0   \n\n      production_companies_etc  \n0                          0.0  \n1                          0.0  \n2                          1.0  \n3                          0.0  \n4                          0.0  \n...                        ...  \n2995                       0.0  \n2996                       1.0  \n2997                       1.0  \n2998                       1.0  \n2999                       1.0  \n\n[3000 rows x 195 columns]",
      "text/html": "<div>\n<style scoped>\n    .dataframe tbody tr th:only-of-type {\n        vertical-align: middle;\n    }\n\n    .dataframe tbody tr th {\n        vertical-align: top;\n    }\n\n    .dataframe thead th {\n        text-align: right;\n    }\n</style>\n<table border=\"1\" class=\"dataframe\">\n  <thead>\n    <tr style=\"text-align: right;\">\n      <th></th>\n      <th>id</th>\n      <th>budget</th>\n      <th>popularity</th>\n      <th>revenue</th>\n      <th>logRevenue</th>\n      <th>release_month</th>\n      <th>release_day</th>\n      <th>release_year</th>\n      <th>release_dayofweek</th>\n      <th>release_quarter</th>\n      <th>...</th>\n      <th>UK Film Council</th>\n      <th>United Artists</th>\n      <th>Universal Pictures</th>\n      <th>Village Roadshow Pictures</th>\n      <th>Walt Disney Pictures</th>\n      <th>Warner Bros.</th>\n      <th>Wild Bunch</th>\n      <th>Wildwood Enterprises</th>\n      <th>Working Title Films</th>\n      <th>production_companies_etc</th>\n    </tr>\n  </thead>\n  <tbody>\n    <tr>\n      <th>0</th>\n      <td>1.0</td>\n      <td>16.454568</td>\n      <td>6.575393</td>\n      <td>12314651.0</td>\n      <td>16.326300</td>\n      <td>2.0</td>\n      <td>20.0</td>\n      <td>2015.0</td>\n      <td>4.0</td>\n      <td>1.0</td>\n      <td>...</td>\n      <td>0.0</td>\n      <td>1.0</td>\n      <td>0.0</td>\n      <td>0.0</td>\n      <td>0.0</td>\n      <td>0.0</td>\n      <td>0.0</td>\n      <td>0.0</td>\n      <td>0.0</td>\n      <td>0.0</td>\n    </tr>\n    <tr>\n      <th>1</th>\n      <td>2.0</td>\n      <td>17.504390</td>\n      <td>8.248895</td>\n      <td>95149435.0</td>\n      <td>18.370959</td>\n      <td>8.0</td>\n      <td>6.0</td>\n      <td>2004.0</td>\n      <td>4.0</td>\n      <td>3.0</td>\n      <td>...</td>\n      <td>0.0</td>\n      <td>0.0</td>\n      <td>0.0</td>\n      <td>0.0</td>\n      <td>1.0</td>\n      <td>0.0</td>\n      <td>0.0</td>\n      <td>0.0</td>\n      <td>0.0</td>\n      <td>0.0</td>\n    </tr>\n    <tr>\n      <th>2</th>\n      <td>3.0</td>\n      <td>15.009433</td>\n      <td>64.299990</td>\n      <td>13092000.0</td>\n      <td>16.387512</td>\n      <td>10.0</td>\n      <td>10.0</td>\n      <td>2014.0</td>\n      <td>4.0</td>\n      <td>4.0</td>\n      <td>...</td>\n      <td>0.0</td>\n      <td>0.0</td>\n      <td>0.0</td>\n      <td>0.0</td>\n      <td>0.0</td>\n      <td>0.0</td>\n      <td>0.0</td>\n      <td>0.0</td>\n      <td>0.0</td>\n      <td>1.0</td>\n    </tr>\n    <tr>\n      <th>3</th>\n      <td>4.0</td>\n      <td>13.997833</td>\n      <td>3.174936</td>\n      <td>16000000.0</td>\n      <td>16.588099</td>\n      <td>3.0</td>\n      <td>9.0</td>\n      <td>2012.0</td>\n      <td>4.0</td>\n      <td>1.0</td>\n      <td>...</td>\n      <td>0.0</td>\n      <td>0.0</td>\n      <td>0.0</td>\n      <td>0.0</td>\n      <td>0.0</td>\n      <td>0.0</td>\n      <td>0.0</td>\n      <td>0.0</td>\n      <td>0.0</td>\n      <td>0.0</td>\n    </tr>\n    <tr>\n      <th>4</th>\n      <td>5.0</td>\n      <td>0.000000</td>\n      <td>1.148070</td>\n      <td>3923970.0</td>\n      <td>15.182615</td>\n      <td>2.0</td>\n      <td>5.0</td>\n      <td>2009.0</td>\n      <td>3.0</td>\n      <td>1.0</td>\n      <td>...</td>\n      <td>0.0</td>\n      <td>0.0</td>\n      <td>0.0</td>\n      <td>0.0</td>\n      <td>0.0</td>\n      <td>0.0</td>\n      <td>0.0</td>\n      <td>0.0</td>\n      <td>0.0</td>\n      <td>0.0</td>\n    </tr>\n    <tr>\n      <th>...</th>\n      <td>...</td>\n      <td>...</td>\n      <td>...</td>\n      <td>...</td>\n      <td>...</td>\n      <td>...</td>\n      <td>...</td>\n      <td>...</td>\n      <td>...</td>\n      <td>...</td>\n      <td>...</td>\n      <td>...</td>\n      <td>...</td>\n      <td>...</td>\n      <td>...</td>\n      <td>...</td>\n      <td>...</td>\n      <td>...</td>\n      <td>...</td>\n      <td>...</td>\n      <td>...</td>\n    </tr>\n    <tr>\n      <th>2995</th>\n      <td>2996.0</td>\n      <td>0.000000</td>\n      <td>9.853270</td>\n      <td>1596687.0</td>\n      <td>14.283442</td>\n      <td>4.0</td>\n      <td>22.0</td>\n      <td>1994.0</td>\n      <td>4.0</td>\n      <td>2.0</td>\n      <td>...</td>\n      <td>0.0</td>\n      <td>0.0</td>\n      <td>0.0</td>\n      <td>0.0</td>\n      <td>0.0</td>\n      <td>1.0</td>\n      <td>0.0</td>\n      <td>0.0</td>\n      <td>0.0</td>\n      <td>0.0</td>\n    </tr>\n    <tr>\n      <th>2996</th>\n      <td>2997.0</td>\n      <td>0.000000</td>\n      <td>3.727996</td>\n      <td>180590.0</td>\n      <td>12.103990</td>\n      <td>3.0</td>\n      <td>28.0</td>\n      <td>2013.0</td>\n      <td>3.0</td>\n      <td>1.0</td>\n      <td>...</td>\n      <td>0.0</td>\n      <td>0.0</td>\n      <td>0.0</td>\n      <td>0.0</td>\n      <td>0.0</td>\n      <td>0.0</td>\n      <td>0.0</td>\n      <td>0.0</td>\n      <td>0.0</td>\n      <td>1.0</td>\n    </tr>\n    <tr>\n      <th>2997</th>\n      <td>2998.0</td>\n      <td>17.989898</td>\n      <td>14.482345</td>\n      <td>89456761.0</td>\n      <td>18.309266</td>\n      <td>10.0</td>\n      <td>11.0</td>\n      <td>1996.0</td>\n      <td>4.0</td>\n      <td>4.0</td>\n      <td>...</td>\n      <td>0.0</td>\n      <td>0.0</td>\n      <td>0.0</td>\n      <td>0.0</td>\n      <td>0.0</td>\n      <td>0.0</td>\n      <td>0.0</td>\n      <td>0.0</td>\n      <td>0.0</td>\n      <td>1.0</td>\n    </tr>\n    <tr>\n      <th>2998</th>\n      <td>2999.0</td>\n      <td>17.553180</td>\n      <td>15.725542</td>\n      <td>171963386.0</td>\n      <td>18.962792</td>\n      <td>1.0</td>\n      <td>16.0</td>\n      <td>2004.0</td>\n      <td>4.0</td>\n      <td>1.0</td>\n      <td>...</td>\n      <td>0.0</td>\n      <td>0.0</td>\n      <td>0.0</td>\n      <td>0.0</td>\n      <td>0.0</td>\n      <td>0.0</td>\n      <td>0.0</td>\n      <td>0.0</td>\n      <td>0.0</td>\n      <td>1.0</td>\n    </tr>\n    <tr>\n      <th>2999</th>\n      <td>3000.0</td>\n      <td>17.370859</td>\n      <td>10.512109</td>\n      <td>82087155.0</td>\n      <td>18.223292</td>\n      <td>9.0</td>\n      <td>22.0</td>\n      <td>2011.0</td>\n      <td>3.0</td>\n      <td>3.0</td>\n      <td>...</td>\n      <td>0.0</td>\n      <td>0.0</td>\n      <td>0.0</td>\n      <td>0.0</td>\n      <td>0.0</td>\n      <td>0.0</td>\n      <td>0.0</td>\n      <td>0.0</td>\n      <td>0.0</td>\n      <td>1.0</td>\n    </tr>\n  </tbody>\n</table>\n<p>3000 rows × 195 columns</p>\n</div>"
     },
     "execution_count": 370,
     "metadata": {},
     "output_type": "execute_result"
    }
   ],
   "source": [
    "train"
   ],
   "metadata": {
    "collapsed": false,
    "ExecuteTime": {
     "end_time": "2023-05-12T12:23:14.208252Z",
     "start_time": "2023-05-12T12:23:14.188361Z"
    }
   }
  },
  {
   "cell_type": "code",
   "execution_count": 371,
   "outputs": [
    {
     "data": {
      "text/plain": "Index(['id', 'budget', 'popularity', 'revenue', 'logRevenue', 'release_month',\n       'release_day', 'release_year', 'release_dayofweek', 'release_quarter',\n       ...\n       'UK Film Council', 'United Artists', 'Universal Pictures',\n       'Village Roadshow Pictures', 'Walt Disney Pictures', 'Warner Bros.',\n       'Wild Bunch', 'Wildwood Enterprises', 'Working Title Films',\n       'production_companies_etc'],\n      dtype='object', length=195)"
     },
     "execution_count": 371,
     "metadata": {},
     "output_type": "execute_result"
    }
   ],
   "source": [
    "train.columns"
   ],
   "metadata": {
    "collapsed": false,
    "ExecuteTime": {
     "end_time": "2023-05-12T12:23:14.208351Z",
     "start_time": "2023-05-12T12:23:14.188683Z"
    }
   }
  },
  {
   "cell_type": "code",
   "execution_count": 372,
   "outputs": [
    {
     "data": {
      "text/plain": "          id     budget  popularity  revenue  logRevenue  release_month  \\\n0     3001.0   0.000000    3.851534      0.0         0.0            7.0   \n1     3002.0  11.385103    3.559789      0.0         0.0            5.0   \n2     3003.0   0.000000    8.085194      0.0         0.0            5.0   \n3     3004.0  15.732433    8.596012      0.0         0.0            9.0   \n4     3005.0  14.508658    3.217680      0.0         0.0            2.0   \n...      ...        ...         ...      ...         ...            ...   \n4393  7394.0  17.553180    9.970359      0.0         0.0            8.0   \n4394  7395.0  16.759950    6.046516      0.0         0.0            8.0   \n4395  7396.0  16.588099    9.596883      0.0         0.0           12.0   \n4396  7397.0  14.508658   20.359336      0.0         0.0            2.0   \n4397  7398.0  11.066654   11.305910      0.0         0.0            9.0   \n\n      release_day  release_year  release_dayofweek  release_quarter  ...  \\\n0            14.0        2007.0                5.0              3.0  ...   \n1            19.0        1958.0                6.0              2.0  ...   \n2            23.0        1997.0                4.0              2.0  ...   \n3             4.0        2010.0                5.0              3.0  ...   \n4            11.0        2005.0                4.0              1.0  ...   \n...           ...           ...                ...              ...  ...   \n4393          3.0        2001.0                4.0              3.0  ...   \n4394         20.0        2004.0                4.0              3.0  ...   \n4395          8.0        1982.0                2.0              4.0  ...   \n4396          4.0        2015.0                2.0              1.0  ...   \n4397         20.0        1962.0                2.0              3.0  ...   \n\n      UK Film Council  United Artists  Universal Pictures  \\\n0                 0.0             0.0                 0.0   \n1                 0.0             0.0                 0.0   \n2                 0.0             0.0                 0.0   \n3                 0.0             0.0                 0.0   \n4                 0.0             0.0                 0.0   \n...               ...             ...                 ...   \n4393              0.0             0.0                 0.0   \n4394              0.0             0.0                 0.0   \n4395              0.0             0.0                 0.0   \n4396              0.0             0.0                 0.0   \n4397              0.0             0.0                 0.0   \n\n      Village Roadshow Pictures  Walt Disney Pictures  Warner Bros.  \\\n0                           0.0                   0.0           0.0   \n1                           0.0                   0.0           0.0   \n2                           0.0                   0.0           1.0   \n3                           0.0                   0.0           0.0   \n4                           0.0                   0.0           0.0   \n...                         ...                   ...           ...   \n4393                        0.0                   0.0           0.0   \n4394                        0.0                   0.0           0.0   \n4395                        0.0                   0.0           0.0   \n4396                        0.0                   0.0           0.0   \n4397                        0.0                   0.0           0.0   \n\n      Wild Bunch  Wildwood Enterprises  Working Title Films  \\\n0            0.0                   0.0                  0.0   \n1            0.0                   0.0                  0.0   \n2            0.0                   0.0                  0.0   \n3            0.0                   0.0                  0.0   \n4            0.0                   0.0                  0.0   \n...          ...                   ...                  ...   \n4393         0.0                   0.0                  0.0   \n4394         0.0                   0.0                  0.0   \n4395         0.0                   0.0                  0.0   \n4396         0.0                   0.0                  0.0   \n4397         0.0                   0.0                  0.0   \n\n      production_companies_etc  \n0                          0.0  \n1                          1.0  \n2                          1.0  \n3                          1.0  \n4                          0.0  \n...                        ...  \n4393                       1.0  \n4394                       1.0  \n4395                       0.0  \n4396                       1.0  \n4397                       1.0  \n\n[4398 rows x 195 columns]",
      "text/html": "<div>\n<style scoped>\n    .dataframe tbody tr th:only-of-type {\n        vertical-align: middle;\n    }\n\n    .dataframe tbody tr th {\n        vertical-align: top;\n    }\n\n    .dataframe thead th {\n        text-align: right;\n    }\n</style>\n<table border=\"1\" class=\"dataframe\">\n  <thead>\n    <tr style=\"text-align: right;\">\n      <th></th>\n      <th>id</th>\n      <th>budget</th>\n      <th>popularity</th>\n      <th>revenue</th>\n      <th>logRevenue</th>\n      <th>release_month</th>\n      <th>release_day</th>\n      <th>release_year</th>\n      <th>release_dayofweek</th>\n      <th>release_quarter</th>\n      <th>...</th>\n      <th>UK Film Council</th>\n      <th>United Artists</th>\n      <th>Universal Pictures</th>\n      <th>Village Roadshow Pictures</th>\n      <th>Walt Disney Pictures</th>\n      <th>Warner Bros.</th>\n      <th>Wild Bunch</th>\n      <th>Wildwood Enterprises</th>\n      <th>Working Title Films</th>\n      <th>production_companies_etc</th>\n    </tr>\n  </thead>\n  <tbody>\n    <tr>\n      <th>0</th>\n      <td>3001.0</td>\n      <td>0.000000</td>\n      <td>3.851534</td>\n      <td>0.0</td>\n      <td>0.0</td>\n      <td>7.0</td>\n      <td>14.0</td>\n      <td>2007.0</td>\n      <td>5.0</td>\n      <td>3.0</td>\n      <td>...</td>\n      <td>0.0</td>\n      <td>0.0</td>\n      <td>0.0</td>\n      <td>0.0</td>\n      <td>0.0</td>\n      <td>0.0</td>\n      <td>0.0</td>\n      <td>0.0</td>\n      <td>0.0</td>\n      <td>0.0</td>\n    </tr>\n    <tr>\n      <th>1</th>\n      <td>3002.0</td>\n      <td>11.385103</td>\n      <td>3.559789</td>\n      <td>0.0</td>\n      <td>0.0</td>\n      <td>5.0</td>\n      <td>19.0</td>\n      <td>1958.0</td>\n      <td>6.0</td>\n      <td>2.0</td>\n      <td>...</td>\n      <td>0.0</td>\n      <td>0.0</td>\n      <td>0.0</td>\n      <td>0.0</td>\n      <td>0.0</td>\n      <td>0.0</td>\n      <td>0.0</td>\n      <td>0.0</td>\n      <td>0.0</td>\n      <td>1.0</td>\n    </tr>\n    <tr>\n      <th>2</th>\n      <td>3003.0</td>\n      <td>0.000000</td>\n      <td>8.085194</td>\n      <td>0.0</td>\n      <td>0.0</td>\n      <td>5.0</td>\n      <td>23.0</td>\n      <td>1997.0</td>\n      <td>4.0</td>\n      <td>2.0</td>\n      <td>...</td>\n      <td>0.0</td>\n      <td>0.0</td>\n      <td>0.0</td>\n      <td>0.0</td>\n      <td>0.0</td>\n      <td>1.0</td>\n      <td>0.0</td>\n      <td>0.0</td>\n      <td>0.0</td>\n      <td>1.0</td>\n    </tr>\n    <tr>\n      <th>3</th>\n      <td>3004.0</td>\n      <td>15.732433</td>\n      <td>8.596012</td>\n      <td>0.0</td>\n      <td>0.0</td>\n      <td>9.0</td>\n      <td>4.0</td>\n      <td>2010.0</td>\n      <td>5.0</td>\n      <td>3.0</td>\n      <td>...</td>\n      <td>0.0</td>\n      <td>0.0</td>\n      <td>0.0</td>\n      <td>0.0</td>\n      <td>0.0</td>\n      <td>0.0</td>\n      <td>0.0</td>\n      <td>0.0</td>\n      <td>0.0</td>\n      <td>1.0</td>\n    </tr>\n    <tr>\n      <th>4</th>\n      <td>3005.0</td>\n      <td>14.508658</td>\n      <td>3.217680</td>\n      <td>0.0</td>\n      <td>0.0</td>\n      <td>2.0</td>\n      <td>11.0</td>\n      <td>2005.0</td>\n      <td>4.0</td>\n      <td>1.0</td>\n      <td>...</td>\n      <td>0.0</td>\n      <td>0.0</td>\n      <td>0.0</td>\n      <td>0.0</td>\n      <td>0.0</td>\n      <td>0.0</td>\n      <td>0.0</td>\n      <td>0.0</td>\n      <td>0.0</td>\n      <td>0.0</td>\n    </tr>\n    <tr>\n      <th>...</th>\n      <td>...</td>\n      <td>...</td>\n      <td>...</td>\n      <td>...</td>\n      <td>...</td>\n      <td>...</td>\n      <td>...</td>\n      <td>...</td>\n      <td>...</td>\n      <td>...</td>\n      <td>...</td>\n      <td>...</td>\n      <td>...</td>\n      <td>...</td>\n      <td>...</td>\n      <td>...</td>\n      <td>...</td>\n      <td>...</td>\n      <td>...</td>\n      <td>...</td>\n      <td>...</td>\n    </tr>\n    <tr>\n      <th>4393</th>\n      <td>7394.0</td>\n      <td>17.553180</td>\n      <td>9.970359</td>\n      <td>0.0</td>\n      <td>0.0</td>\n      <td>8.0</td>\n      <td>3.0</td>\n      <td>2001.0</td>\n      <td>4.0</td>\n      <td>3.0</td>\n      <td>...</td>\n      <td>0.0</td>\n      <td>0.0</td>\n      <td>0.0</td>\n      <td>0.0</td>\n      <td>0.0</td>\n      <td>0.0</td>\n      <td>0.0</td>\n      <td>0.0</td>\n      <td>0.0</td>\n      <td>1.0</td>\n    </tr>\n    <tr>\n      <th>4394</th>\n      <td>7395.0</td>\n      <td>16.759950</td>\n      <td>6.046516</td>\n      <td>0.0</td>\n      <td>0.0</td>\n      <td>8.0</td>\n      <td>20.0</td>\n      <td>2004.0</td>\n      <td>4.0</td>\n      <td>3.0</td>\n      <td>...</td>\n      <td>0.0</td>\n      <td>0.0</td>\n      <td>0.0</td>\n      <td>0.0</td>\n      <td>0.0</td>\n      <td>0.0</td>\n      <td>0.0</td>\n      <td>0.0</td>\n      <td>0.0</td>\n      <td>1.0</td>\n    </tr>\n    <tr>\n      <th>4395</th>\n      <td>7396.0</td>\n      <td>16.588099</td>\n      <td>9.596883</td>\n      <td>0.0</td>\n      <td>0.0</td>\n      <td>12.0</td>\n      <td>8.0</td>\n      <td>1982.0</td>\n      <td>2.0</td>\n      <td>4.0</td>\n      <td>...</td>\n      <td>0.0</td>\n      <td>0.0</td>\n      <td>0.0</td>\n      <td>0.0</td>\n      <td>0.0</td>\n      <td>0.0</td>\n      <td>0.0</td>\n      <td>0.0</td>\n      <td>0.0</td>\n      <td>0.0</td>\n    </tr>\n    <tr>\n      <th>4396</th>\n      <td>7397.0</td>\n      <td>14.508658</td>\n      <td>20.359336</td>\n      <td>0.0</td>\n      <td>0.0</td>\n      <td>2.0</td>\n      <td>4.0</td>\n      <td>2015.0</td>\n      <td>2.0</td>\n      <td>1.0</td>\n      <td>...</td>\n      <td>0.0</td>\n      <td>0.0</td>\n      <td>0.0</td>\n      <td>0.0</td>\n      <td>0.0</td>\n      <td>0.0</td>\n      <td>0.0</td>\n      <td>0.0</td>\n      <td>0.0</td>\n      <td>1.0</td>\n    </tr>\n    <tr>\n      <th>4397</th>\n      <td>7398.0</td>\n      <td>11.066654</td>\n      <td>11.305910</td>\n      <td>0.0</td>\n      <td>0.0</td>\n      <td>9.0</td>\n      <td>20.0</td>\n      <td>1962.0</td>\n      <td>2.0</td>\n      <td>3.0</td>\n      <td>...</td>\n      <td>0.0</td>\n      <td>0.0</td>\n      <td>0.0</td>\n      <td>0.0</td>\n      <td>0.0</td>\n      <td>0.0</td>\n      <td>0.0</td>\n      <td>0.0</td>\n      <td>0.0</td>\n      <td>1.0</td>\n    </tr>\n  </tbody>\n</table>\n<p>4398 rows × 195 columns</p>\n</div>"
     },
     "execution_count": 372,
     "metadata": {},
     "output_type": "execute_result"
    }
   ],
   "source": [
    "test"
   ],
   "metadata": {
    "collapsed": false,
    "ExecuteTime": {
     "end_time": "2023-05-12T12:23:14.208442Z",
     "start_time": "2023-05-12T12:23:14.189992Z"
    }
   }
  },
  {
   "cell_type": "code",
   "execution_count": 373,
   "outputs": [],
   "source": [
    "# extract labels\n",
    "#y = train_data['revenue']\n",
    "# select relevant features (to be extended)\n",
    "#features = ['budget'] #add\n",
    "#X = train_data[features]\n",
    "\n",
    "# extract labels\n",
    "y = train['revenue']\n",
    "# select relevant features (to be extended)\n",
    "#features = ['budget'] #add\n",
    "features = ['budget', 'popularity', 'release_month', 'release_day', 'release_year', 'release_dayofweek', 'genders_0_crew', 'genders_1_crew', 'genders_2_crew', '_collection_name', '_num_cast', 'has_homepage', 'isOriginalLanguageEng']\n",
    "X = train[features]\n",
    "X_test = test[features]"
   ],
   "metadata": {
    "collapsed": false,
    "ExecuteTime": {
     "end_time": "2023-05-12T12:23:14.208505Z",
     "start_time": "2023-05-12T12:23:14.204461Z"
    }
   }
  },
  {
   "cell_type": "code",
   "execution_count": 374,
   "outputs": [],
   "source": [
    "from sklearn.svm import SVR\n",
    "# create ML regression model\n",
    "#model = SVR()\n",
    "# train ML model\n",
    "#model.fit(X, y)"
   ],
   "metadata": {
    "collapsed": false,
    "ExecuteTime": {
     "end_time": "2023-05-12T12:23:14.208560Z",
     "start_time": "2023-05-12T12:23:14.206987Z"
    }
   }
  },
  {
   "cell_type": "code",
   "execution_count": 375,
   "outputs": [
    {
     "data": {
      "text/plain": "RandomForestRegressor(random_state=42)",
      "text/html": "<style>#sk-container-id-12 {color: black;background-color: white;}#sk-container-id-12 pre{padding: 0;}#sk-container-id-12 div.sk-toggleable {background-color: white;}#sk-container-id-12 label.sk-toggleable__label {cursor: pointer;display: block;width: 100%;margin-bottom: 0;padding: 0.3em;box-sizing: border-box;text-align: center;}#sk-container-id-12 label.sk-toggleable__label-arrow:before {content: \"▸\";float: left;margin-right: 0.25em;color: #696969;}#sk-container-id-12 label.sk-toggleable__label-arrow:hover:before {color: black;}#sk-container-id-12 div.sk-estimator:hover label.sk-toggleable__label-arrow:before {color: black;}#sk-container-id-12 div.sk-toggleable__content {max-height: 0;max-width: 0;overflow: hidden;text-align: left;background-color: #f0f8ff;}#sk-container-id-12 div.sk-toggleable__content pre {margin: 0.2em;color: black;border-radius: 0.25em;background-color: #f0f8ff;}#sk-container-id-12 input.sk-toggleable__control:checked~div.sk-toggleable__content {max-height: 200px;max-width: 100%;overflow: auto;}#sk-container-id-12 input.sk-toggleable__control:checked~label.sk-toggleable__label-arrow:before {content: \"▾\";}#sk-container-id-12 div.sk-estimator input.sk-toggleable__control:checked~label.sk-toggleable__label {background-color: #d4ebff;}#sk-container-id-12 div.sk-label input.sk-toggleable__control:checked~label.sk-toggleable__label {background-color: #d4ebff;}#sk-container-id-12 input.sk-hidden--visually {border: 0;clip: rect(1px 1px 1px 1px);clip: rect(1px, 1px, 1px, 1px);height: 1px;margin: -1px;overflow: hidden;padding: 0;position: absolute;width: 1px;}#sk-container-id-12 div.sk-estimator {font-family: monospace;background-color: #f0f8ff;border: 1px dotted black;border-radius: 0.25em;box-sizing: border-box;margin-bottom: 0.5em;}#sk-container-id-12 div.sk-estimator:hover {background-color: #d4ebff;}#sk-container-id-12 div.sk-parallel-item::after {content: \"\";width: 100%;border-bottom: 1px solid gray;flex-grow: 1;}#sk-container-id-12 div.sk-label:hover label.sk-toggleable__label {background-color: #d4ebff;}#sk-container-id-12 div.sk-serial::before {content: \"\";position: absolute;border-left: 1px solid gray;box-sizing: border-box;top: 0;bottom: 0;left: 50%;z-index: 0;}#sk-container-id-12 div.sk-serial {display: flex;flex-direction: column;align-items: center;background-color: white;padding-right: 0.2em;padding-left: 0.2em;position: relative;}#sk-container-id-12 div.sk-item {position: relative;z-index: 1;}#sk-container-id-12 div.sk-parallel {display: flex;align-items: stretch;justify-content: center;background-color: white;position: relative;}#sk-container-id-12 div.sk-item::before, #sk-container-id-12 div.sk-parallel-item::before {content: \"\";position: absolute;border-left: 1px solid gray;box-sizing: border-box;top: 0;bottom: 0;left: 50%;z-index: -1;}#sk-container-id-12 div.sk-parallel-item {display: flex;flex-direction: column;z-index: 1;position: relative;background-color: white;}#sk-container-id-12 div.sk-parallel-item:first-child::after {align-self: flex-end;width: 50%;}#sk-container-id-12 div.sk-parallel-item:last-child::after {align-self: flex-start;width: 50%;}#sk-container-id-12 div.sk-parallel-item:only-child::after {width: 0;}#sk-container-id-12 div.sk-dashed-wrapped {border: 1px dashed gray;margin: 0 0.4em 0.5em 0.4em;box-sizing: border-box;padding-bottom: 0.4em;background-color: white;}#sk-container-id-12 div.sk-label label {font-family: monospace;font-weight: bold;display: inline-block;line-height: 1.2em;}#sk-container-id-12 div.sk-label-container {text-align: center;}#sk-container-id-12 div.sk-container {/* jupyter's `normalize.less` sets `[hidden] { display: none; }` but bootstrap.min.css set `[hidden] { display: none !important; }` so we also need the `!important` here to be able to override the default hidden behavior on the sphinx rendered scikit-learn.org. See: https://github.com/scikit-learn/scikit-learn/issues/21755 */display: inline-block !important;position: relative;}#sk-container-id-12 div.sk-text-repr-fallback {display: none;}</style><div id=\"sk-container-id-12\" class=\"sk-top-container\"><div class=\"sk-text-repr-fallback\"><pre>RandomForestRegressor(random_state=42)</pre><b>In a Jupyter environment, please rerun this cell to show the HTML representation or trust the notebook. <br />On GitHub, the HTML representation is unable to render, please try loading this page with nbviewer.org.</b></div><div class=\"sk-container\" hidden><div class=\"sk-item\"><div class=\"sk-estimator sk-toggleable\"><input class=\"sk-toggleable__control sk-hidden--visually\" id=\"sk-estimator-id-12\" type=\"checkbox\" checked><label for=\"sk-estimator-id-12\" class=\"sk-toggleable__label sk-toggleable__label-arrow\">RandomForestRegressor</label><div class=\"sk-toggleable__content\"><pre>RandomForestRegressor(random_state=42)</pre></div></div></div></div></div>"
     },
     "execution_count": 375,
     "metadata": {},
     "output_type": "execute_result"
    }
   ],
   "source": [
    "from sklearn.ensemble import RandomForestRegressor\n",
    "\n",
    "model = RandomForestRegressor(n_estimators=100, random_state=42)\n",
    "model.fit(X, y)"
   ],
   "metadata": {
    "collapsed": false,
    "ExecuteTime": {
     "end_time": "2023-05-12T12:23:15.389301Z",
     "start_time": "2023-05-12T12:23:14.211398Z"
    }
   }
  },
  {
   "cell_type": "code",
   "execution_count": 376,
   "outputs": [],
   "source": [
    "from sklearn.linear_model import LinearRegression\n",
    "\n",
    "#model = LinearRegression()\n",
    "#model.fit(X, y)"
   ],
   "metadata": {
    "collapsed": false,
    "ExecuteTime": {
     "end_time": "2023-05-12T12:23:15.391348Z",
     "start_time": "2023-05-12T12:23:15.389640Z"
    }
   }
  },
  {
   "cell_type": "code",
   "execution_count": 377,
   "outputs": [],
   "source": [
    "from sklearn.tree import DecisionTreeRegressor\n",
    "\n",
    "#model = DecisionTreeRegressor(max_depth=3)\n",
    "#model.fit(X, y)"
   ],
   "metadata": {
    "collapsed": false,
    "ExecuteTime": {
     "end_time": "2023-05-12T12:23:15.397016Z",
     "start_time": "2023-05-12T12:23:15.392257Z"
    }
   }
  },
  {
   "cell_type": "code",
   "execution_count": 378,
   "outputs": [
    {
     "name": "stdout",
     "output_type": "stream",
     "text": [
      "RMSE: -77118250.59051256\n"
     ]
    }
   ],
   "source": [
    "from sklearn.model_selection import cross_val_score\n",
    "\n",
    "# evaluate model\n",
    "scores = cross_val_score(model, X, y, scoring='neg_root_mean_squared_error')\n",
    "print(f'RMSE: {scores.mean()}')"
   ],
   "metadata": {
    "collapsed": false,
    "ExecuteTime": {
     "end_time": "2023-05-12T12:23:20.042255Z",
     "start_time": "2023-05-12T12:23:15.398260Z"
    }
   }
  },
  {
   "cell_type": "code",
   "execution_count": 379,
   "outputs": [],
   "source": [
    "# predict labels for test set\n",
    "predictions = model.predict(X_test)\n",
    "# prepare submission\n",
    "output = pd.DataFrame({'id': test.id.astype(int), 'revenue': predictions})\n",
    "output.to_csv('data/submission.csv', index=False)"
   ],
   "metadata": {
    "collapsed": false,
    "ExecuteTime": {
     "end_time": "2023-05-12T12:23:20.099824Z",
     "start_time": "2023-05-12T12:23:20.043295Z"
    }
   }
  }
 ],
 "metadata": {
  "kernelspec": {
   "display_name": "Python 3",
   "language": "python",
   "name": "python3"
  },
  "language_info": {
   "codemirror_mode": {
    "name": "ipython",
    "version": 2
   },
   "file_extension": ".py",
   "mimetype": "text/x-python",
   "name": "python",
   "nbconvert_exporter": "python",
   "pygments_lexer": "ipython2",
   "version": "2.7.6"
  }
 },
 "nbformat": 4,
 "nbformat_minor": 0
}
